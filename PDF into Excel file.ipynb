{
 "cells": [
  {
   "cell_type": "markdown",
   "metadata": {},
   "source": [
    "Name: Isaiyamudhu M\n",
    "To scrap Table from image based pdf or scanned pdf using OpenCV and pytesseract.\n",
    "The algorithm steps:\n",
    "    1.I have used Open CV library for table detection and cell recognition. \n",
    "    2.Did thorough allocation of the cells to the proper row and column.\n",
    "    3.Then the extraction of each allocated cell through Optical Character Recognition (OCR) with pytesseract library.    "
   ]
  },
  {
   "cell_type": "code",
   "execution_count": 23,
   "metadata": {},
   "outputs": [],
   "source": [
    "import fitz # PyMuPDF\n",
    "import io\n",
    "# file path to extract images from\n",
    "file = \"TestDocument.pdf\"\n",
    "# open the file\n",
    "pdf_file = fitz.open(file)"
   ]
  },
  {
   "cell_type": "code",
   "execution_count": 25,
   "metadata": {},
   "outputs": [
    {
     "name": "stdout",
     "output_type": "stream",
     "text": [
      "[+] Found a total of 1 images in page 0\n"
     ]
    }
   ],
   "source": [
    "# iterate over PDF pages\n",
    "img_namlist = []\n",
    "for page_index in range(len(pdf_file)):\n",
    "    # get the page itself\n",
    "    page = pdf_file[page_index]\n",
    "    image_list = page.getImageList()\n",
    "    # printing number of images found in this page\n",
    "    if image_list:\n",
    "        print(f\"[+] Found a total of {len(image_list)} images in page {page_index}\")\n",
    "    else:\n",
    "        print(\"[!] No images found on page\", page_index)\n",
    "    for image_index, img in enumerate(page.getImageList(), start=1):\n",
    "        # get the XREF of the image\n",
    "        xref = img[0]\n",
    "        # extract the image bytes\n",
    "        base_image = pdf_file.extractImage(xref)\n",
    "        image_bytes = base_image[\"image\"]\n",
    "        # get the image extension\n",
    "        image_ext = base_image[\"ext\"]\n",
    "        # load it to PIL\n",
    "        image = Image.open(io.BytesIO(image_bytes))\n",
    "        # append image name in img_namlist\n",
    "        img_nam = \"image\"+str(page_index+1)+\"_\"+str(image_index)+\".\"+str(image_ext)\n",
    "        img_namlist.append(img_nam)\n",
    "        # save it to local disk\n",
    "        image.save(open(f\"image{page_index+1}_{image_index}.{image_ext}\", \"wb\"))\n"
   ]
  },
  {
   "cell_type": "code",
   "execution_count": 27,
   "metadata": {},
   "outputs": [
    {
     "data": {
      "text/plain": [
       "'image1_1.png'"
      ]
     },
     "execution_count": 27,
     "metadata": {},
     "output_type": "execute_result"
    }
   ],
   "source": [
    "img_nam = img_namlist[0]\n",
    "img_nam"
   ]
  },
  {
   "cell_type": "code",
   "execution_count": 2,
   "metadata": {},
   "outputs": [],
   "source": [
    "import cv2\n",
    "import numpy as np\n",
    "import pandas as pd\n",
    "import matplotlib.pyplot as plt\n",
    "import csv\n",
    "try:\n",
    "    from PIL import Image\n",
    "except ImportError:\n",
    "    import Image\n",
    "import pytesseract"
   ]
  },
  {
   "cell_type": "markdown",
   "metadata": {},
   "source": [
    "Using thresholding to convert the input image to a binary image and inverting it to get a black background and white lines and fonts\n"
   ]
  },
  {
   "cell_type": "code",
   "execution_count": 30,
   "metadata": {},
   "outputs": [
    {
     "data": {
      "image/png": "[encoded data removed]",
      "text/plain": [
       "<Figure size 432x288 with 1 Axes>"
      ]
     },
     "metadata": {
      "needs_background": "light"
     },
     "output_type": "display_data"
    }
   ],
   "source": [
    "#read your file\n",
    "file=r'image1_1.png'\n",
    "img = cv2.imread(file,0)\n",
    "img.shape\n",
    "#thresholding the image to a binary image\n",
    "thresh,img_bin = cv2.threshold(img,128,255,cv2.THRESH_BINARY |cv2.THRESH_OTSU)\n",
    "#inverting the image \n",
    "img_bin = 255-img_bin\n",
    "cv2.imwrite('cv_inverted1.png',img_bin)\n",
    "#Plotting the image to see the output\n",
    "plotting = plt.imshow(img_bin,cmap='gray')\n",
    "plt.show()"
   ]
  },
  {
   "cell_type": "markdown",
   "metadata": {},
   "source": [
    "To define a kernel to detect rectangular boxes, and followingly the tabular structure. First, we define the length of the kernel and following the vertical and horizontal kernels to detect later on all vertical lines and all horizontal lines."
   ]
  },
  {
   "cell_type": "code",
   "execution_count": 4,
   "metadata": {},
   "outputs": [],
   "source": [
    "# Length(width) of kernel as 100th of total width\n",
    "kernel_len = np.array(img).shape[1]//100\n",
    "# Defining a vertical kernel to detect all vertical lines of image \n",
    "ver_kernel = cv2.getStructuringElement(cv2.MORPH_RECT, (1, kernel_len))\n",
    "# Defining a horizontal kernel to detect all horizontal lines of image\n",
    "hor_kernel = cv2.getStructuringElement(cv2.MORPH_RECT, (kernel_len, 1))\n",
    "# A kernel of 2x2\n",
    "kernel = cv2.getStructuringElement(cv2.MORPH_RECT, (2, 2))"
   ]
  },
  {
   "cell_type": "markdown",
   "metadata": {},
   "source": [
    "The next step is the detection of the vertical lines"
   ]
  },
  {
   "cell_type": "code",
   "execution_count": 5,
   "metadata": {},
   "outputs": [
    {
     "data": {
      "image/png": "[encoded data removed]",
      "text/plain": [
       "<Figure size 432x288 with 1 Axes>"
      ]
     },
     "metadata": {
      "needs_background": "light"
     },
     "output_type": "display_data"
    }
   ],
   "source": [
    "#Use vertical kernel to detect and save the vertical lines in a jpg\n",
    "image_1 = cv2.erode(img_bin, ver_kernel, iterations=3)\n",
    "vertical_lines = cv2.dilate(image_1, ver_kernel, iterations=3)\n",
    "cv2.imwrite(\"vertical1.jpg\",vertical_lines)\n",
    "#Plot the generated image\n",
    "plotting = plt.imshow(image_1,cmap='gray')\n",
    "plt.show()"
   ]
  },
  {
   "cell_type": "markdown",
   "metadata": {},
   "source": [
    "And now the same for all horizontal lines"
   ]
  },
  {
   "cell_type": "code",
   "execution_count": 6,
   "metadata": {},
   "outputs": [
    {
     "data": {
      "image/png": "[encoded data removed]",
      "text/plain": [
       "<Figure size 432x288 with 1 Axes>"
      ]
     },
     "metadata": {
      "needs_background": "light"
     },
     "output_type": "display_data"
    }
   ],
   "source": [
    "#Use horizontal kernel to detect and save the horizontal lines in a jpg\n",
    "image_2 = cv2.erode(img_bin, hor_kernel, iterations=3)\n",
    "horizontal_lines = cv2.dilate(image_2, hor_kernel, iterations=3)\n",
    "cv2.imwrite(\"horizontal1.jpg\",horizontal_lines)\n",
    "#Plot the generated image\n",
    "plotting = plt.imshow(image_2,cmap='gray')\n",
    "plt.show()"
   ]
  },
  {
   "cell_type": "markdown",
   "metadata": {},
   "source": [
    "We combine the horizontal and vertical lines to a third image, by weighting both with 0.5. The aim is to get a clear tabular structure to detect each cell."
   ]
  },
  {
   "cell_type": "code",
   "execution_count": 7,
   "metadata": {},
   "outputs": [
    {
     "data": {
      "image/png": "[encoded data removed]",
      "text/plain": [
       "<Figure size 432x288 with 1 Axes>"
      ]
     },
     "metadata": {
      "needs_background": "light"
     },
     "output_type": "display_data"
    }
   ],
   "source": [
    "# Combine horizontal and vertical lines in a new third image, with both having same weight.\n",
    "img_vh = cv2.addWeighted(vertical_lines, 0.5, horizontal_lines, 0.5, 0.0)\n",
    "#Eroding and thesholding the image\n",
    "img_vh = cv2.erode(~img_vh, kernel, iterations=2)\n",
    "thresh, img_vh = cv2.threshold(img_vh,128,255, cv2.THRESH_BINARY | cv2.THRESH_OTSU)\n",
    "cv2.imwrite(\"img_vh1.jpg\", img_vh)\n",
    "bitxor = cv2.bitwise_xor(img,img_vh)\n",
    "bitnot = cv2.bitwise_not(bitxor)\n",
    "#Plotting the generated image\n",
    "plotting = plt.imshow(bitnot,cmap='gray')\n",
    "plt.show()"
   ]
  },
  {
   "cell_type": "markdown",
   "metadata": {},
   "source": [
    " the findContours function to detect the contours. This helps us to retrieve the exact coordinates of each box."
   ]
  },
  {
   "cell_type": "code",
   "execution_count": 8,
   "metadata": {},
   "outputs": [],
   "source": [
    "# Detect contours for following box detection\n",
    "contours, hierarchy = cv2.findContours(img_vh, cv2.RETR_TREE, cv2.CHAIN_APPROX_SIMPLE)"
   ]
  },
  {
   "cell_type": "code",
   "execution_count": 9,
   "metadata": {},
   "outputs": [],
   "source": [
    "def sort_contours(cnts, method=\"left-to-right\"):\n",
    "    # initialize the reverse flag and sort index\n",
    "    reverse = False\n",
    "    i = 0\n",
    "    # handle if we need to sort in reverse\n",
    "    if method == \"right-to-left\" or method == \"bottom-to-top\":\n",
    "        reverse = True\n",
    "    # handle if we are sorting against the y-coordinate rather than\n",
    "    # the x-coordinate of the bounding box\n",
    "    if method == \"top-to-bottom\" or method == \"bottom-to-top\":\n",
    "        i = 1\n",
    "    # construct the list of bounding boxes and sort them from top to\n",
    "    # bottom\n",
    "    boundingBoxes = [cv2.boundingRect(c) for c in cnts]\n",
    "    (cnts, boundingBoxes) = zip(*sorted(zip(cnts, boundingBoxes),\n",
    "    key=lambda b:b[1][i], reverse=reverse))\n",
    "    # return the list of sorted contours and bounding boxes\n",
    "    return (cnts, boundingBoxes)\n",
    "\n",
    "# Sort all the contours by top to bottom.\n",
    "contours, boundingBoxes = sort_contours(contours, method=\"top-to-bottom\")"
   ]
  },
  {
   "cell_type": "markdown",
   "metadata": {},
   "source": [
    "How to retrieve the cells position\n",
    "The further steps are necessary to define the right location, which means proper column and row, of each cell. First, we need to retrieve the height for each cell and store it in the list heights. Then we take the mean from the heights."
   ]
  },
  {
   "cell_type": "code",
   "execution_count": 10,
   "metadata": {},
   "outputs": [],
   "source": [
    "#Creating a list of heights for all detected boxes\n",
    "heights = [boundingBoxes[i][3] for i in range(len(boundingBoxes))]\n",
    "#Get mean of heights\n",
    "mean = np.mean(heights)"
   ]
  },
  {
   "cell_type": "markdown",
   "metadata": {},
   "source": [
    "Next we retrieve the position, width and height of each contour and store it in the box list. Then we draw rectangles around all our boxes and plot the image. In my case I only did it for boxes smaller then a width of 1000 px and a height of 500 px to neglect rectangles which might be no cells, e.g. the table as a whole. These two values depend on your image size, so in case your image is a lot smaller or bigger you need to adjust both."
   ]
  },
  {
   "cell_type": "code",
   "execution_count": 11,
   "metadata": {},
   "outputs": [
    {
     "data": {
      "image/png": "[encoded data removed]",
      "text/plain": [
       "<Figure size 432x288 with 1 Axes>"
      ]
     },
     "metadata": {
      "needs_background": "light"
     },
     "output_type": "display_data"
    }
   ],
   "source": [
    "#Create list box to store all boxes in  \n",
    "box = []\n",
    "# Get position (x,y), width and height for every contour and show the contour on image\n",
    "for c in contours:\n",
    "    x, y, w, h = cv2.boundingRect(c)\n",
    "    if (w<1000 and h<500):\n",
    "        image = cv2.rectangle(img,(x,y),(x+w,y+h),(0,255,0),2)\n",
    "        box.append([x,y,w,h])\n",
    "plotting = plt.imshow(image,cmap='gray')\n",
    "plt.show()"
   ]
  },
  {
   "cell_type": "markdown",
   "metadata": {},
   "source": [
    "Now as we have every cell, its location, height and width we need to get the right location within the table. Therefore, we need to know in which row and which column it is located. As long as a box does not differ more than its own (height + mean/2) the box is in the same row. As soon as the height difference is higher than the current (height + mean/2) , we know that a new row starts. Columns are logically arranged from left to right."
   ]
  },
  {
   "cell_type": "code",
   "execution_count": 12,
   "metadata": {},
   "outputs": [
    {
     "name": "stdout",
     "output_type": "stream",
     "text": [
      "[[9787, 7497, 256, 33], [9566, 7497, 217, 33], [9368, 7497, 194, 33], [8807, 7497, 556, 33], [6526, 7497, 86, 33], [6263, 7497, 259, 33]]\n",
      "[[[16425, 118, 143, 24], [16380, 118, 41, 5], [15717, 118, 658, 24], [9787, 129, 256, 98], [9566, 129, 217, 98], [9368, 129, 194, 98], [8807, 129, 556, 98], [6526, 129, 86, 98], [6263, 129, 259, 98], [16554, 146, 14, 35], [15717, 146, 2, 1], [15717, 157, 2, 24], [4681, 160, 193, 97], [4482, 160, 194, 97], [3859, 160, 618, 97], [1381, 160, 85, 97], [1118, 160, 258, 97], [154, 160, 959, 97]], [[16554, 186, 14, 35], [15717, 186, 2, 1], [15717, 196, 2, 25], [13909, 210, 188, 109], [13715, 210, 189, 109], [13300, 210, 410, 109], [11406, 210, 89, 109], [11138, 210, 263, 109], [10278, 210, 855, 109], [16554, 226, 14, 34], [15717, 226, 2, 35], [9788, 231, 255, 36], [9566, 231, 216, 36], [9368, 231, 193, 36], [8807, 231, 556, 36], [6527, 231, 84, 36], [6264, 231, 257, 36]], [[4681, 262, 193, 36], [4482, 262, 194, 36], [3859, 262, 618, 36], [1381, 262, 85, 36], [1118, 262, 258, 36], [154, 262, 959, 36], [16554, 265, 14, 35], [15717, 265, 2, 35], [9788, 272, 255, 36], [9566, 272, 216, 36], [9368, 272, 193, 36], [8807, 272, 556, 36], [6527, 272, 84, 36], [6264, 272, 257, 36]], [[4681, 303, 193, 36], [4482, 303, 194, 36], [3859, 303, 618, 36], [1381, 303, 85, 36], [1118, 303, 258, 36], [154, 303, 959, 36], [16554, 305, 14, 35], [15717, 305, 2, 35], [9788, 313, 255, 36], [9566, 313, 216, 36], [9368, 313, 193, 36], [8807, 313, 556, 36], [6527, 313, 84, 36], [6264, 313, 257, 36], [13909, 324, 188, 40], [13715, 324, 189, 40], [13300, 324, 410, 40], [11406, 324, 89, 40], [11138, 324, 263, 40], [10278, 324, 855, 40], [15717, 344, 2, 35], [4681, 344, 193, 35], [4482, 344, 194, 35], [3859, 344, 618, 35], [1381, 344, 85, 35], [1118, 344, 258, 35], [154, 344, 959, 35], [16554, 345, 14, 34], [9788, 354, 255, 36], [9566, 354, 216, 36], [9368, 354, 193, 36], [8807, 354, 556, 36], [6527, 354, 84, 36], [6264, 354, 257, 36], [13909, 369, 188, 40], [13715, 369, 189, 40], [13300, 369, 410, 40], [11406, 369, 89, 40], [11138, 369, 263, 40], [10278, 369, 855, 40], [16554, 384, 14, 35], [15717, 384, 2, 35], [4681, 385, 193, 35], [4482, 385, 194, 35], [3859, 385, 618, 35], [1381, 385, 85, 35], [1118, 385, 258, 35], [154, 385, 959, 35], [9788, 395, 255, 36], [9566, 395, 216, 36], [9368, 395, 193, 36], [8807, 395, 556, 36], [6527, 395, 84, 36], [6264, 395, 257, 36], [13909, 414, 188, 41], [13715, 414, 189, 41], [13300, 414, 410, 41], [11406, 414, 89, 41], [11138, 414, 263, 41], [10278, 414, 855, 41], [16554, 424, 14, 34], [15717, 424, 2, 35], [4681, 425, 193, 36], [4482, 425, 194, 36], [3859, 425, 618, 36], [1381, 425, 85, 36], [1118, 425, 258, 36], [154, 425, 959, 36], [9788, 436, 255, 35], [9566, 436, 216, 35], [9368, 436, 193, 35], [8807, 436, 556, 35], [6527, 436, 84, 35], [6264, 436, 257, 35], [13909, 460, 188, 40], [13715, 460, 189, 40], [13300, 460, 410, 40], [11406, 460, 89, 40], [11138, 460, 263, 40], [10278, 460, 855, 40], [16554, 463, 14, 35], [15717, 463, 2, 35], [4681, 466, 193, 36], [4482, 466, 194, 36], [3859, 466, 618, 36], [1381, 466, 85, 36], [1118, 466, 258, 36], [154, 466, 959, 36], [9788, 476, 255, 36], [9566, 476, 216, 36], [9368, 476, 193, 36], [8807, 476, 556, 36], [6527, 476, 84, 36], [6264, 476, 257, 36]], [[16554, 503, 14, 35], [15717, 503, 2, 35], [13909, 505, 188, 40], [13715, 505, 189, 40], [13300, 505, 410, 40], [11406, 505, 89, 40], [11138, 505, 263, 40], [10278, 505, 855, 40], [4681, 507, 193, 36], [4482, 507, 194, 36], [3859, 507, 618, 36], [1381, 507, 85, 36], [1118, 507, 258, 36], [154, 507, 959, 36], [9788, 517, 255, 36], [9566, 517, 216, 36], [9368, 517, 193, 36], [8807, 517, 556, 36], [6527, 517, 84, 36], [6264, 517, 257, 36]], [[15717, 542, 2, 35], [16554, 543, 14, 34], [4681, 548, 193, 36], [4482, 548, 194, 36], [3859, 548, 618, 36], [1381, 548, 85, 36], [1118, 548, 258, 36], [154, 548, 959, 36], [13909, 550, 188, 41], [13715, 550, 189, 41], [13300, 550, 410, 41], [11406, 550, 89, 41], [11138, 550, 263, 41], [10278, 550, 855, 41], [9788, 558, 255, 36], [9566, 558, 216, 36], [9368, 558, 193, 36], [8807, 558, 556, 36], [6527, 558, 84, 36], [6264, 558, 257, 36], [16554, 582, 14, 35], [15717, 582, 2, 1], [4681, 589, 193, 35], [4482, 589, 194, 35], [3859, 589, 618, 35], [1381, 589, 85, 35], [1118, 589, 258, 35], [154, 589, 959, 35], [15717, 592, 2, 25], [13909, 596, 188, 40], [13715, 596, 189, 40], [13300, 596, 410, 40], [11406, 596, 89, 40], [11138, 596, 263, 40], [10278, 596, 855, 40], [9788, 599, 255, 36], [9566, 599, 216, 36], [9368, 599, 193, 36], [8807, 599, 556, 36], [6527, 599, 84, 36], [6264, 599, 257, 36], [16554, 622, 14, 34], [15717, 622, 1, 1], [4681, 629, 193, 36], [4482, 629, 194, 36], [3859, 629, 618, 36], [1381, 629, 85, 36], [1118, 629, 258, 36], [154, 629, 959, 36], [15717, 632, 2, 25], [9788, 640, 255, 36], [9566, 640, 216, 36], [9368, 640, 193, 36], [8807, 640, 556, 36], [6527, 640, 84, 36], [6264, 640, 257, 36], [13909, 641, 188, 40], [13715, 641, 189, 40], [13300, 641, 410, 40], [11406, 641, 89, 40], [11138, 641, 263, 40], [10278, 641, 855, 40], [16411, 661, 157, 35], [15717, 661, 644, 35], [4681, 670, 193, 36], [4482, 670, 194, 36], [3859, 670, 618, 36], [1381, 670, 85, 36], [1118, 670, 258, 36], [154, 670, 959, 36], [9788, 681, 255, 35], [9566, 681, 216, 35], [9368, 681, 193, 35], [8807, 681, 556, 35], [6527, 681, 84, 35], [6264, 681, 257, 35], [13909, 687, 188, 40], [13715, 687, 189, 40], [13300, 687, 410, 40], [11406, 687, 89, 40], [11138, 687, 263, 40], [10278, 687, 855, 40], [16365, 693, 41, 3], [15717, 701, 851, 35], [4681, 711, 193, 36], [4482, 711, 194, 36], [3859, 711, 618, 36], [1381, 711, 85, 36], [1118, 711, 258, 36], [154, 711, 959, 36], [9788, 721, 255, 36], [9566, 721, 216, 36], [9368, 721, 193, 36], [8807, 721, 556, 36], [6527, 721, 84, 36], [6264, 721, 257, 36], [13909, 732, 188, 40], [13715, 732, 189, 40], [13300, 732, 410, 40], [11406, 732, 89, 40], [11138, 732, 263, 40], [10278, 732, 855, 40], [16449, 741, 119, 34], [16417, 741, 6, 2], [16400, 741, 1, 1], [16394, 741, 1, 1], [16385, 741, 5, 2], [16196, 741, 158, 2], [16174, 741, 1, 1], [16165, 741, 1, 1], [15976, 741, 164, 2], [15941, 741, 1, 1], [15931, 741, 1, 1], [15750, 741, 176, 2], [15746, 741, 1, 1], [15717, 741, 19, 2], [15717, 749, 18, 27], [4681, 752, 193, 36], [4482, 752, 194, 36], [3859, 752, 618, 36], [1381, 752, 85, 36], [1118, 752, 258, 36], [154, 752, 959, 36], [9788, 762, 255, 36], [9566, 762, 216, 36], [9368, 762, 193, 36], [8807, 762, 556, 36], [6527, 762, 84, 36], [6264, 762, 257, 36], [13909, 777, 188, 41], [13715, 777, 189, 41], [13300, 777, 410, 41], [11406, 777, 89, 41], [11138, 777, 263, 41], [10278, 777, 855, 41], [16557, 780, 11, 35], [15717, 780, 18, 35], [4681, 793, 193, 35], [4482, 793, 194, 35], [3859, 793, 618, 35], [1381, 793, 85, 35], [1118, 793, 258, 35], [154, 793, 959, 35], [9788, 803, 255, 36], [9566, 803, 216, 36], [9368, 803, 193, 36], [8807, 803, 556, 36], [6527, 803, 84, 36], [6264, 803, 257, 36], [15717, 819, 18, 36], [16557, 820, 11, 34], [13909, 823, 188, 40], [13715, 823, 189, 40], [13300, 823, 410, 40], [11406, 823, 89, 40], [11138, 823, 263, 40], [10278, 823, 855, 40], [4681, 834, 193, 35], [4482, 834, 194, 35], [3859, 834, 618, 35], [1381, 834, 85, 35], [1118, 834, 258, 35], [154, 834, 959, 35], [9788, 844, 255, 36], [9566, 844, 216, 36], [9368, 844, 193, 36], [8807, 844, 556, 36], [6527, 844, 84, 36], [6264, 844, 257, 36], [16557, 859, 11, 35], [15717, 859, 18, 35], [13909, 868, 188, 40], [13715, 868, 189, 40], [13300, 868, 410, 40], [11406, 868, 89, 40], [11138, 868, 263, 40], [10278, 868, 855, 40], [4681, 874, 193, 36], [4482, 874, 194, 36], [3859, 874, 618, 36], [1381, 874, 85, 36], [1118, 874, 258, 36], [154, 874, 959, 36], [9788, 885, 255, 35], [9566, 885, 216, 35], [9368, 885, 193, 35], [8807, 885, 556, 35], [6527, 885, 84, 35], [6264, 885, 257, 35], [16557, 899, 11, 35], [15717, 899, 18, 35], [13909, 913, 188, 41], [13715, 913, 189, 41], [13300, 913, 410, 41], [11406, 913, 89, 41], [11138, 913, 263, 41], [10278, 913, 855, 41], [4681, 915, 193, 36], [4482, 915, 194, 36], [3859, 915, 618, 36], [1381, 915, 85, 36], [1118, 915, 258, 36], [154, 915, 959, 36], [9788, 926, 255, 35], [9566, 926, 216, 35], [9368, 926, 193, 35], [8807, 926, 556, 35], [6527, 926, 84, 35], [6264, 926, 257, 35], [15717, 938, 18, 36], [16557, 939, 11, 34], [4681, 956, 193, 36], [4482, 956, 194, 36], [3859, 956, 618, 36], [1381, 956, 85, 36], [1118, 956, 258, 36], [154, 956, 959, 36], [13909, 959, 188, 40], [13715, 959, 189, 40], [13300, 959, 410, 40], [11406, 959, 89, 40], [11138, 959, 263, 40], [10278, 959, 855, 40], [9788, 966, 255, 36], [9566, 966, 216, 36], [9368, 966, 193, 36], [8807, 966, 556, 36], [6527, 966, 84, 36], [6264, 966, 257, 36], [16557, 978, 11, 35], [15717, 978, 18, 35], [4681, 997, 193, 36], [4482, 997, 194, 36], [3859, 997, 618, 36], [1381, 997, 85, 36], [1118, 997, 258, 36], [154, 997, 959, 36], [13909, 1004, 188, 40], [13715, 1004, 189, 40], [13300, 1004, 410, 40], [11406, 1004, 89, 40], [11138, 1004, 263, 40], [10278, 1004, 855, 40], [9788, 1007, 255, 36], [9566, 1007, 216, 36], [9368, 1007, 193, 36], [8807, 1007, 556, 36], [6527, 1007, 84, 36], [6264, 1007, 257, 36], [15717, 1017, 18, 36], [16557, 1018, 11, 34], [4681, 1038, 193, 35], [4482, 1038, 194, 35], [3859, 1038, 618, 35], [1381, 1038, 85, 35], [1118, 1038, 258, 35], [154, 1038, 959, 35], [9788, 1048, 255, 36], [9566, 1048, 216, 36], [9368, 1048, 193, 36], [8807, 1048, 556, 36], [6527, 1048, 84, 36], [6264, 1048, 257, 36], [13909, 1049, 188, 41], [13715, 1049, 189, 41], [13300, 1049, 410, 41], [11406, 1049, 89, 41], [11138, 1049, 263, 41], [10278, 1049, 855, 41], [16557, 1057, 11, 35], [15717, 1057, 18, 35], [4681, 1078, 193, 36], [4482, 1078, 194, 36], [3859, 1078, 618, 36], [1381, 1078, 85, 36], [1118, 1078, 258, 36], [154, 1078, 959, 36], [9788, 1089, 255, 36], [9566, 1089, 216, 36], [9368, 1089, 193, 36], [8807, 1089, 556, 36], [6527, 1089, 84, 36], [6264, 1089, 257, 36], [13909, 1095, 188, 40], [13715, 1095, 189, 40], [13300, 1095, 410, 40], [11406, 1095, 89, 40], [11138, 1095, 263, 40], [10278, 1095, 855, 40], [16557, 1097, 11, 35], [15717, 1097, 18, 35], [4681, 1119, 193, 36], [4482, 1119, 194, 36], [3859, 1119, 618, 36], [1381, 1119, 85, 36], [1118, 1119, 258, 36], [154, 1119, 959, 36], [9788, 1130, 255, 35], [9566, 1130, 216, 35], [9368, 1130, 193, 35], [8807, 1130, 556, 35], [6527, 1130, 84, 35], [6264, 1130, 257, 35], [15717, 1136, 18, 36], [16557, 1137, 11, 34], [13909, 1140, 188, 40], [13715, 1140, 189, 40], [13300, 1140, 410, 40], [11406, 1140, 89, 40], [11138, 1140, 263, 40], [10278, 1140, 855, 40], [4681, 1160, 193, 36], [4482, 1160, 194, 36], [3859, 1160, 618, 36], [1381, 1160, 85, 36], [1118, 1160, 258, 36], [154, 1160, 959, 36], [9788, 1170, 255, 36], [9566, 1170, 216, 36], [9368, 1170, 193, 36], [8807, 1170, 556, 36], [6527, 1170, 84, 36], [6264, 1170, 257, 36], [16557, 1176, 11, 35], [15717, 1176, 18, 35], [13909, 1185, 188, 41], [13715, 1185, 189, 41], [13300, 1185, 410, 41], [11406, 1185, 89, 41], [11138, 1185, 263, 41], [10278, 1185, 855, 41], [4681, 1201, 193, 36], [4482, 1201, 194, 36], [3859, 1201, 618, 36], [1381, 1201, 85, 36], [1118, 1201, 258, 36], [154, 1201, 959, 36], [9788, 1211, 255, 36], [9566, 1211, 216, 36], [9368, 1211, 193, 36], [8807, 1211, 556, 36], [6527, 1211, 84, 36], [6264, 1211, 257, 36], [15717, 1215, 18, 36], [16557, 1216, 11, 34], [13909, 1231, 188, 40], [13715, 1231, 189, 40], [13300, 1231, 410, 40], [11406, 1231, 89, 40], [11138, 1231, 263, 40], [10278, 1231, 855, 40], [4681, 1242, 193, 35], [4482, 1242, 194, 35], [3859, 1242, 618, 35], [1381, 1242, 85, 35], [1118, 1242, 258, 35], [154, 1242, 959, 35], [9788, 1252, 255, 36], [9566, 1252, 216, 36], [9368, 1252, 193, 36], [8807, 1252, 556, 36], [6527, 1252, 84, 36], [6264, 1252, 257, 36], [16557, 1255, 11, 35], [15717, 1255, 18, 35], [13909, 1276, 188, 40], [13715, 1276, 189, 40], [13300, 1276, 410, 40], [11406, 1276, 89, 40], [11138, 1276, 263, 40], [10278, 1276, 855, 40], [4681, 1283, 193, 35], [4482, 1283, 194, 35], [3859, 1283, 618, 35], [1381, 1283, 85, 35], [1118, 1283, 258, 35], [154, 1283, 959, 35], [9788, 1293, 255, 36], [9566, 1293, 216, 36], [9368, 1293, 193, 36], [8807, 1293, 556, 36], [6527, 1293, 84, 36], [6264, 1293, 257, 36], [16557, 1295, 11, 35], [15717, 1295, 18, 35]], [[13909, 1322, 188, 40], [13715, 1322, 189, 40], [13300, 1322, 410, 40], [11406, 1322, 89, 40], [11138, 1322, 263, 40], [10278, 1322, 855, 40], [4681, 1323, 193, 36], [4482, 1323, 194, 36], [3859, 1323, 618, 36], [1381, 1323, 85, 36], [1118, 1323, 258, 36], [154, 1323, 959, 36], [15717, 1334, 18, 36], [9788, 1334, 255, 35], [9566, 1334, 216, 35], [9368, 1334, 193, 35], [8807, 1334, 556, 35], [6527, 1334, 84, 35], [6264, 1334, 257, 35], [16557, 1335, 11, 34]], [[4681, 1364, 193, 36], [4482, 1364, 194, 36], [3859, 1364, 618, 36], [1381, 1364, 85, 36], [1118, 1364, 258, 36], [154, 1364, 959, 36], [13909, 1367, 188, 40], [13715, 1367, 189, 40], [13300, 1367, 410, 40], [11406, 1367, 89, 40], [11138, 1367, 263, 40], [10278, 1367, 855, 40], [16557, 1374, 11, 35], [15717, 1374, 18, 35], [9788, 1375, 255, 35], [9566, 1375, 216, 35], [9368, 1375, 193, 35], [8807, 1375, 556, 35], [6527, 1375, 84, 35], [6264, 1375, 257, 35]], [[4681, 1405, 193, 36], [4482, 1405, 194, 36], [3859, 1405, 618, 36], [1381, 1405, 85, 36], [1118, 1405, 258, 36], [154, 1405, 959, 36], [13909, 1412, 188, 41], [13715, 1412, 189, 41], [13300, 1412, 410, 41], [11406, 1412, 89, 41], [11138, 1412, 263, 41], [10278, 1412, 855, 41], [15717, 1413, 851, 35], [9788, 1415, 255, 36], [9566, 1415, 216, 36], [9368, 1415, 193, 36], [8807, 1415, 556, 36], [6527, 1415, 84, 36], [6264, 1415, 257, 36]], [[4681, 1446, 193, 36], [4482, 1446, 194, 36], [3859, 1446, 618, 36], [1381, 1446, 85, 36], [1118, 1446, 258, 36], [154, 1446, 959, 36], [15717, 1453, 851, 35], [9788, 1456, 255, 36], [9566, 1456, 216, 36], [9368, 1456, 193, 36], [8807, 1456, 556, 36], [6527, 1456, 84, 36], [6264, 1456, 257, 36], [13909, 1458, 188, 40], [13715, 1458, 189, 40], [13300, 1458, 410, 40], [11406, 1458, 89, 40], [11138, 1458, 263, 40], [10278, 1458, 855, 40]], [[4681, 1487, 193, 35], [4482, 1487, 194, 35], [3859, 1487, 618, 35], [1381, 1487, 85, 35], [1118, 1487, 258, 35], [154, 1487, 959, 35], [16565, 1493, 3, 35], [15717, 1493, 7, 35], [9788, 1497, 255, 36], [9566, 1497, 216, 36], [9368, 1497, 193, 36], [8807, 1497, 556, 36], [6527, 1497, 84, 36], [6264, 1497, 257, 36], [13909, 1503, 188, 40], [13715, 1503, 189, 40], [13300, 1503, 410, 40], [11406, 1503, 89, 40], [11138, 1503, 263, 40], [10278, 1503, 855, 40], [4681, 1527, 193, 36], [4482, 1527, 194, 36], [3859, 1527, 618, 36], [1381, 1527, 85, 36], [1118, 1527, 258, 36], [154, 1527, 959, 36], [15717, 1532, 7, 35], [16565, 1533, 3, 34], [9788, 1538, 255, 36], [9566, 1538, 216, 36], [9368, 1538, 193, 36], [8807, 1538, 556, 36], [6527, 1538, 84, 36], [6264, 1538, 257, 36], [13909, 1548, 188, 41], [13715, 1548, 189, 41], [13300, 1548, 410, 41], [11406, 1548, 89, 41], [11138, 1548, 263, 41], [10278, 1548, 855, 41], [4681, 1568, 193, 36], [4482, 1568, 194, 36], [3859, 1568, 618, 36], [1381, 1568, 85, 36], [1118, 1568, 258, 36], [154, 1568, 959, 36], [16565, 1572, 3, 35], [15717, 1572, 7, 2], [15717, 1577, 4, 1], [9788, 1579, 255, 35], [9566, 1579, 216, 35], [9368, 1579, 193, 35], [8807, 1579, 556, 35], [6527, 1579, 84, 35], [6264, 1579, 257, 35], [15717, 1582, 7, 25], [13909, 1594, 188, 40], [13715, 1594, 189, 40], [13300, 1594, 410, 40], [11406, 1594, 89, 40], [11138, 1594, 263, 40], [10278, 1594, 855, 40], [4681, 1609, 193, 36], [4482, 1609, 194, 36], [3859, 1609, 618, 36], [1381, 1609, 85, 36], [1118, 1609, 258, 36], [154, 1609, 959, 36], [16565, 1612, 3, 34], [15717, 1612, 7, 1], [15717, 1617, 4, 1], [9788, 1619, 255, 36], [9566, 1619, 216, 36], [9368, 1619, 193, 36], [8807, 1619, 556, 36], [6527, 1619, 84, 36], [6264, 1619, 257, 36], [15717, 1621, 7, 26], [13909, 1639, 188, 40], [13715, 1639, 189, 40], [13300, 1639, 410, 40], [11406, 1639, 89, 40], [11138, 1639, 263, 40], [10278, 1639, 855, 40], [4681, 1650, 193, 36], [4482, 1650, 194, 36], [3859, 1650, 618, 36], [1381, 1650, 85, 36], [1118, 1650, 258, 36], [154, 1650, 959, 36], [16565, 1651, 3, 35], [15717, 1651, 7, 35], [9788, 1660, 255, 36], [9566, 1660, 216, 36], [9368, 1660, 193, 36], [8807, 1660, 556, 36], [6527, 1660, 84, 36], [6264, 1660, 257, 36], [13909, 1684, 188, 41], [13715, 1684, 189, 41], [13300, 1684, 410, 41], [11406, 1684, 89, 41], [11138, 1684, 263, 41], [10278, 1684, 855, 41], [16565, 1691, 3, 35], [15717, 1691, 7, 35], [4681, 1691, 193, 35], [4482, 1691, 194, 35], [3859, 1691, 618, 35], [1381, 1691, 85, 35], [1118, 1691, 258, 35], [154, 1691, 959, 35], [9788, 1701, 255, 36], [9566, 1701, 216, 36], [9368, 1701, 193, 36], [8807, 1701, 556, 36], [6527, 1701, 84, 36], [6264, 1701, 257, 36]], [[15717, 1730, 7, 35], [13909, 1730, 188, 40], [13715, 1730, 189, 40], [13300, 1730, 410, 40], [11406, 1730, 89, 40], [11138, 1730, 263, 40], [10278, 1730, 855, 40], [16565, 1731, 3, 34], [4681, 1732, 193, 35], [4482, 1732, 194, 35], [3859, 1732, 618, 35], [1381, 1732, 85, 35], [1118, 1732, 258, 35], [154, 1732, 959, 35], [9788, 1742, 255, 36], [9566, 1742, 216, 36], [9368, 1742, 193, 36], [8807, 1742, 556, 36], [6527, 1742, 84, 36], [6264, 1742, 257, 36]], [[16565, 1770, 3, 35], [15717, 1770, 7, 2], [4681, 1772, 193, 36], [4482, 1772, 194, 36], [3859, 1772, 618, 36], [1381, 1772, 85, 36], [1118, 1772, 258, 36], [154, 1772, 959, 36], [15717, 1775, 4, 1], [13909, 1775, 188, 40], [13715, 1775, 189, 40], [13300, 1775, 410, 40], [11406, 1775, 89, 40], [11138, 1775, 263, 40], [10278, 1775, 855, 40], [15717, 1780, 7, 25], [9788, 1783, 255, 35], [9566, 1783, 216, 35], [9368, 1783, 193, 35], [8807, 1783, 556, 35], [6527, 1783, 84, 35], [6264, 1783, 257, 35]], [[16565, 1810, 3, 34], [15717, 1810, 7, 1], [4681, 1813, 193, 36], [4482, 1813, 194, 36], [3859, 1813, 618, 36], [1381, 1813, 85, 36], [1118, 1813, 258, 36], [154, 1813, 959, 36], [15717, 1815, 4, 1], [15717, 1819, 7, 26], [13909, 1820, 188, 41], [13715, 1820, 189, 41], [13300, 1820, 410, 41], [11406, 1820, 89, 41], [11138, 1820, 263, 41], [10278, 1820, 855, 41], [9788, 1824, 255, 35], [9566, 1824, 216, 35], [9368, 1824, 193, 35], [8807, 1824, 556, 35], [6527, 1824, 84, 35], [6264, 1824, 257, 35]], [[16565, 1849, 3, 35], [15717, 1849, 7, 35], [4681, 1854, 193, 36], [4482, 1854, 194, 36], [3859, 1854, 618, 36], [1381, 1854, 85, 36], [1118, 1854, 258, 36], [154, 1854, 959, 36], [9788, 1864, 255, 36], [9566, 1864, 216, 36], [9368, 1864, 193, 36], [8807, 1864, 556, 36], [6527, 1864, 84, 36], [6264, 1864, 257, 36], [13909, 1866, 188, 40], [13715, 1866, 189, 40], [13300, 1866, 410, 40], [11406, 1866, 89, 40], [11138, 1866, 263, 40], [10278, 1866, 855, 40], [16565, 1889, 3, 35], [15717, 1889, 7, 35], [4681, 1895, 193, 36], [4482, 1895, 194, 36], [3859, 1895, 618, 36], [1381, 1895, 85, 36], [1118, 1895, 258, 36], [154, 1895, 959, 36], [9788, 1905, 255, 36], [9566, 1905, 216, 36], [9368, 1905, 193, 36], [8807, 1905, 556, 36], [6527, 1905, 84, 36], [6264, 1905, 257, 36], [13909, 1911, 188, 40], [13715, 1911, 189, 40], [13300, 1911, 410, 40], [11406, 1911, 89, 40], [11138, 1911, 263, 40], [10278, 1911, 855, 40], [15717, 1928, 7, 35], [16565, 1929, 3, 34], [4681, 1936, 193, 35], [4482, 1936, 194, 35], [3859, 1936, 618, 35], [1381, 1936, 85, 35], [1118, 1936, 258, 35], [154, 1936, 959, 35], [9788, 1946, 255, 36], [9566, 1946, 216, 36], [9368, 1946, 193, 36], [8807, 1946, 556, 36], [6527, 1946, 84, 36], [6264, 1946, 257, 36], [13909, 1956, 188, 41], [13715, 1956, 189, 41], [13300, 1956, 410, 41], [11406, 1956, 89, 41], [11138, 1956, 263, 41], [10278, 1956, 855, 41], [15717, 1968, 851, 35], [4681, 1976, 193, 36], [4482, 1976, 194, 36], [3859, 1976, 618, 36], [1381, 1976, 85, 36], [1118, 1976, 258, 36], [154, 1976, 959, 36], [9788, 1987, 255, 36], [9566, 1987, 216, 36], [9368, 1987, 193, 36], [8807, 1987, 556, 36], [6527, 1987, 84, 36], [6264, 1987, 257, 36], [13909, 2002, 188, 40], [13715, 2002, 189, 40], [13300, 2002, 410, 40], [11406, 2002, 89, 40], [11138, 2002, 263, 40], [10278, 2002, 855, 40], [15717, 2008, 851, 35], [4681, 2017, 193, 36], [4482, 2017, 194, 36], [3859, 2017, 618, 36], [1381, 2017, 85, 36], [1118, 2017, 258, 36], [154, 2017, 959, 36], [9788, 2028, 255, 35], [9566, 2028, 216, 35], [9368, 2028, 193, 35], [8807, 2028, 556, 35], [6527, 2028, 84, 35], [6264, 2028, 257, 35], [16547, 2047, 21, 35], [15717, 2047, 2, 35], [13909, 2047, 188, 40], [13715, 2047, 189, 40], [13300, 2047, 410, 40], [11406, 2047, 89, 40], [11138, 2047, 263, 40], [10278, 2047, 855, 40], [4681, 2058, 193, 35], [4482, 2058, 194, 35], [3859, 2058, 618, 35], [1381, 2058, 85, 35], [1118, 2058, 258, 35], [154, 2058, 959, 35], [9788, 2068, 255, 36], [9566, 2068, 216, 36], [9368, 2068, 193, 36], [8807, 2068, 556, 36], [6527, 2068, 84, 36], [6264, 2068, 257, 36], [16547, 2087, 21, 35], [15717, 2087, 2, 35], [13909, 2093, 188, 40], [13715, 2093, 189, 40], [13300, 2093, 410, 40], [11406, 2093, 89, 40], [11138, 2093, 263, 40], [10278, 2093, 855, 40], [4681, 2098, 193, 36], [4482, 2098, 194, 36], [3859, 2098, 618, 36], [1381, 2098, 85, 36], [1118, 2098, 258, 36], [154, 2098, 959, 36], [9788, 2109, 255, 36], [9566, 2109, 216, 36], [9368, 2109, 193, 36], [8807, 2109, 556, 36], [6527, 2109, 84, 36], [6264, 2109, 257, 36], [15717, 2126, 2, 35], [16547, 2127, 21, 34], [13909, 2138, 188, 40], [13715, 2138, 189, 40], [13300, 2138, 410, 40], [11406, 2138, 89, 40], [11138, 2138, 263, 40], [10278, 2138, 855, 40], [4681, 2139, 193, 35], [4482, 2139, 194, 35], [3859, 2139, 618, 35], [1381, 2139, 85, 35], [1118, 2139, 258, 35], [154, 2139, 959, 35], [9788, 2150, 255, 36], [9566, 2150, 216, 36], [9368, 2150, 193, 36], [8807, 2150, 556, 36], [6527, 2150, 84, 36], [6264, 2150, 257, 36], [16547, 2166, 21, 35], [15717, 2166, 2, 35], [4681, 2179, 193, 36], [4482, 2179, 194, 36], [3859, 2179, 618, 36], [1381, 2179, 85, 36], [1118, 2179, 258, 36], [154, 2179, 959, 36], [13909, 2183, 188, 41], [13715, 2183, 189, 41], [13300, 2183, 410, 41], [11406, 2183, 89, 41], [11138, 2183, 263, 41], [10278, 2183, 855, 41], [9788, 2191, 255, 36], [9566, 2191, 216, 36], [9368, 2191, 193, 36], [8807, 2191, 556, 36], [6527, 2191, 84, 36], [6264, 2191, 257, 36], [16547, 2206, 21, 34], [15717, 2206, 1, 1], [15717, 2216, 2, 25], [4681, 2220, 193, 36], [4482, 2220, 194, 36], [3859, 2220, 618, 36], [1381, 2220, 85, 36], [1118, 2220, 258, 36], [154, 2220, 959, 36], [13909, 2229, 188, 40], [13715, 2229, 189, 40], [13300, 2229, 410, 40], [11406, 2229, 89, 40], [11138, 2229, 263, 40], [10278, 2229, 855, 40], [9788, 2232, 255, 35], [9566, 2232, 216, 35], [9368, 2232, 193, 35], [8807, 2232, 556, 35], [6527, 2232, 84, 35], [6264, 2232, 257, 35], [16547, 2245, 21, 35], [15717, 2245, 2, 1], [15717, 2256, 2, 24], [4681, 2261, 193, 36], [4482, 2261, 194, 36], [3859, 2261, 618, 36], [1381, 2261, 85, 36], [1118, 2261, 258, 36], [154, 2261, 959, 36], [9788, 2273, 255, 35], [9566, 2273, 216, 35], [9368, 2273, 193, 35], [8807, 2273, 556, 35], [6527, 2273, 84, 35], [6264, 2273, 257, 35], [13909, 2274, 188, 40], [13715, 2274, 189, 40], [13300, 2274, 410, 40], [11406, 2274, 89, 40], [11138, 2274, 263, 40], [10278, 2274, 855, 40], [16547, 2285, 21, 35], [15717, 2285, 2, 35], [4681, 2302, 193, 36], [4482, 2302, 194, 36], [3859, 2302, 618, 36], [1381, 2302, 85, 36], [1118, 2302, 258, 36], [154, 2302, 959, 36], [9788, 2313, 255, 36], [9566, 2313, 216, 36], [9368, 2313, 193, 36], [8807, 2313, 556, 36], [6527, 2313, 84, 36], [6264, 2313, 257, 36], [13909, 2319, 188, 41], [13715, 2319, 189, 41], [13300, 2319, 410, 41], [11406, 2319, 89, 41], [11138, 2319, 263, 41], [10278, 2319, 855, 41], [15717, 2324, 2, 35], [16547, 2325, 21, 34], [4681, 2343, 193, 35], [4482, 2343, 194, 35], [3859, 2343, 618, 35], [1381, 2343, 85, 35], [1118, 2343, 258, 35], [154, 2343, 959, 35], [9788, 2354, 255, 36], [9566, 2354, 216, 36], [9368, 2354, 193, 36], [8807, 2354, 556, 36], [6527, 2354, 84, 36], [6264, 2354, 257, 36], [16547, 2364, 21, 35], [15717, 2364, 2, 35], [13909, 2365, 188, 40], [13715, 2365, 189, 40], [13300, 2365, 410, 40], [11406, 2365, 89, 40], [11138, 2365, 263, 40], [10278, 2365, 855, 40], [4681, 2384, 193, 35], [4482, 2384, 194, 35], [3859, 2384, 618, 35], [1381, 2384, 85, 35], [1118, 2384, 258, 35], [154, 2384, 959, 35], [9788, 2395, 255, 36], [9566, 2395, 216, 36], [9368, 2395, 193, 36], [8807, 2395, 556, 36], [6527, 2395, 84, 36], [6264, 2395, 257, 36], [16547, 2404, 21, 34], [15717, 2404, 1, 1], [13909, 2410, 188, 40], [13715, 2410, 189, 40], [13300, 2410, 410, 40], [11406, 2410, 89, 40], [11138, 2410, 263, 40], [10278, 2410, 855, 40], [15717, 2414, 2, 25], [4681, 2424, 193, 36], [4482, 2424, 194, 36], [3859, 2424, 618, 36], [1381, 2424, 85, 36], [1118, 2424, 258, 36], [154, 2424, 959, 36], [9788, 2436, 255, 36], [9566, 2436, 216, 36], [9368, 2436, 193, 36], [8807, 2436, 556, 36], [6527, 2436, 84, 36], [6264, 2436, 257, 36], [16547, 2443, 21, 35], [15717, 2443, 2, 1], [15717, 2454, 2, 24], [13909, 2455, 188, 41], [13715, 2455, 189, 41], [13300, 2455, 410, 41], [11406, 2455, 89, 41], [11138, 2455, 263, 41], [10278, 2455, 855, 41], [4681, 2465, 193, 36], [4482, 2465, 194, 36], [3859, 2465, 618, 36], [1381, 2465, 85, 36], [1118, 2465, 258, 36], [154, 2465, 959, 36], [9788, 2477, 255, 35], [9566, 2477, 216, 35], [9368, 2477, 193, 35], [8807, 2477, 556, 35], [6527, 2477, 84, 35], [6264, 2477, 257, 35], [16547, 2483, 21, 35], [15717, 2483, 2, 35], [13909, 2501, 188, 40], [13715, 2501, 189, 40], [13300, 2501, 410, 40], [11406, 2501, 89, 40], [11138, 2501, 263, 40], [10278, 2501, 855, 40], [4681, 2506, 193, 36], [4482, 2506, 194, 36], [3859, 2506, 618, 36], [1381, 2506, 85, 36], [1118, 2506, 258, 36], [154, 2506, 959, 36], [9788, 2517, 255, 36], [9566, 2517, 216, 36], [9368, 2517, 193, 36], [8807, 2517, 556, 36], [6527, 2517, 84, 36], [6264, 2517, 257, 36], [15717, 2522, 2, 35], [16547, 2523, 21, 34], [13909, 2546, 188, 40], [13715, 2546, 189, 40], [13300, 2546, 410, 40], [11406, 2546, 89, 40], [11138, 2546, 263, 40], [10278, 2546, 855, 40], [4681, 2547, 193, 36], [4482, 2547, 194, 36], [3859, 2547, 618, 36], [1381, 2547, 85, 36], [1118, 2547, 258, 36], [154, 2547, 959, 36], [9788, 2558, 255, 36], [9566, 2558, 216, 36], [9368, 2558, 193, 36], [8807, 2558, 556, 36], [6527, 2558, 84, 36], [6264, 2558, 257, 36], [16547, 2562, 21, 35], [15717, 2562, 2, 1], [15717, 2572, 2, 25], [4681, 2588, 193, 35], [4482, 2588, 194, 35], [3859, 2588, 618, 35], [1381, 2588, 85, 35], [1118, 2588, 258, 35], [154, 2588, 959, 35], [13909, 2591, 188, 41], [13715, 2591, 189, 41], [13300, 2591, 410, 41], [11406, 2591, 89, 41], [11138, 2591, 263, 41], [10278, 2591, 855, 41], [9788, 2599, 255, 36], [9566, 2599, 216, 36], [9368, 2599, 193, 36], [8807, 2599, 556, 36], [6527, 2599, 84, 36], [6264, 2599, 257, 36], [16547, 2602, 21, 34], [15717, 2602, 1, 1], [15717, 2612, 2, 24], [4681, 2628, 193, 36], [4482, 2628, 194, 36], [3859, 2628, 618, 36], [1381, 2628, 85, 36], [1118, 2628, 258, 36], [154, 2628, 959, 36], [13909, 2637, 188, 40], [13715, 2637, 189, 40], [13300, 2637, 410, 40], [11406, 2637, 89, 40], [11138, 2637, 263, 40], [10278, 2637, 855, 40], [9788, 2640, 255, 36], [9566, 2640, 216, 36], [9368, 2640, 193, 36], [8807, 2640, 556, 36], [6527, 2640, 84, 36], [6264, 2640, 257, 36], [16565, 2641, 3, 35], [15717, 2641, 2, 35]], [[4681, 2669, 193, 36], [4482, 2669, 194, 36], [3859, 2669, 618, 36], [1381, 2669, 85, 36], [1118, 2669, 258, 36], [154, 2669, 959, 36], [16565, 2681, 3, 35], [15717, 2681, 2, 35], [9788, 2681, 255, 35], [9566, 2681, 216, 35], [9368, 2681, 193, 35], [8807, 2681, 556, 35], [6527, 2681, 84, 35], [6264, 2681, 257, 35], [13909, 2682, 188, 40], [13715, 2682, 189, 40], [13300, 2682, 410, 40], [11406, 2682, 89, 40], [11138, 2682, 263, 40], [10278, 2682, 855, 40]], [[4681, 2710, 193, 36], [4482, 2710, 194, 36], [3859, 2710, 618, 36], [1381, 2710, 85, 36], [1118, 2710, 258, 36], [154, 2710, 959, 36], [15717, 2720, 2, 35], [16565, 2721, 3, 34], [9788, 2722, 255, 35], [9566, 2722, 216, 35], [9368, 2722, 193, 35], [8807, 2722, 556, 35], [6527, 2722, 84, 35], [6264, 2722, 257, 35], [13909, 2727, 188, 41], [13715, 2727, 189, 41], [13300, 2727, 410, 41], [11406, 2727, 89, 41], [11138, 2727, 263, 41], [10278, 2727, 855, 41], [4681, 2751, 193, 36], [4482, 2751, 194, 36], [3859, 2751, 618, 36], [1381, 2751, 85, 36], [1118, 2751, 258, 36], [154, 2751, 959, 36], [16565, 2760, 3, 35], [15717, 2760, 2, 35], [9788, 2762, 255, 36], [9566, 2762, 216, 36], [9368, 2762, 193, 36], [8807, 2762, 556, 36], [6527, 2762, 84, 36], [6264, 2762, 257, 36], [13909, 2773, 188, 40], [13715, 2773, 189, 40], [13300, 2773, 410, 40], [11406, 2773, 89, 40], [11138, 2773, 263, 40], [10278, 2773, 855, 40], [4681, 2792, 193, 35], [4482, 2792, 194, 35], [3859, 2792, 618, 35], [1381, 2792, 85, 35], [1118, 2792, 258, 35], [154, 2792, 959, 35], [16565, 2800, 3, 34], [15717, 2800, 2, 35], [9788, 2803, 255, 36], [9566, 2803, 216, 36], [9368, 2803, 193, 36], [8807, 2803, 556, 36], [6527, 2803, 84, 36], [6264, 2803, 257, 36], [13909, 2818, 188, 40], [13715, 2818, 189, 40], [13300, 2818, 410, 40], [11406, 2818, 89, 40], [11138, 2818, 263, 40], [10278, 2818, 855, 40], [4681, 2833, 193, 35], [4482, 2833, 194, 35], [3859, 2833, 618, 35], [1381, 2833, 85, 35], [1118, 2833, 258, 35], [154, 2833, 959, 35], [16565, 2839, 3, 35], [15717, 2839, 2, 35], [9788, 2844, 255, 36], [9566, 2844, 216, 36], [9368, 2844, 193, 36], [8807, 2844, 556, 36], [6527, 2844, 84, 36], [6264, 2844, 257, 36], [13909, 2864, 188, 40], [13715, 2864, 189, 40], [13300, 2864, 410, 40], [11406, 2864, 89, 40], [11138, 2864, 263, 40], [10278, 2864, 855, 40], [4681, 2873, 193, 36], [4482, 2873, 194, 36], [3859, 2873, 618, 36], [1381, 2873, 85, 36], [1118, 2873, 258, 36], [154, 2873, 959, 36], [9788, 2885, 255, 36], [9566, 2885, 216, 36], [9368, 2885, 193, 36], [8807, 2885, 556, 36], [6527, 2885, 84, 36], [6264, 2885, 257, 36], [13909, 2909, 188, 40], [13715, 2909, 189, 40], [13300, 2909, 410, 40], [11406, 2909, 89, 40], [11138, 2909, 263, 40], [10278, 2909, 855, 40], [4681, 2914, 193, 36], [4482, 2914, 194, 36], [3859, 2914, 618, 36], [1381, 2914, 85, 36], [1118, 2914, 258, 36], [154, 2914, 959, 36], [9788, 2926, 255, 35], [9566, 2926, 216, 35], [9368, 2926, 193, 35], [8807, 2926, 556, 35], [6527, 2926, 84, 35], [6264, 2926, 257, 35]], [[13909, 2954, 188, 41], [13715, 2954, 189, 41], [13300, 2954, 410, 41], [11406, 2954, 89, 41], [11138, 2954, 263, 41], [10278, 2954, 855, 41], [4681, 2955, 193, 36], [4482, 2955, 194, 36], [3859, 2955, 618, 36], [1381, 2955, 85, 36], [1118, 2955, 258, 36], [154, 2955, 959, 36], [9788, 2966, 255, 36], [9566, 2966, 216, 36], [9368, 2966, 193, 36], [8807, 2966, 556, 36], [6527, 2966, 84, 36], [6264, 2966, 257, 36]], [[4681, 2996, 193, 36], [4482, 2996, 194, 36], [3859, 2996, 618, 36], [1381, 2996, 85, 36], [1118, 2996, 258, 36], [154, 2996, 959, 36], [13909, 3000, 188, 40], [13715, 3000, 189, 40], [13300, 3000, 410, 40], [11406, 3000, 89, 40], [11138, 3000, 263, 40], [10278, 3000, 855, 40], [9788, 3007, 255, 36], [9566, 3007, 216, 36], [9368, 3007, 193, 36], [8807, 3007, 556, 36], [6527, 3007, 84, 36], [6264, 3007, 257, 36]], [[4681, 3037, 193, 35], [4482, 3037, 194, 35], [3859, 3037, 618, 35], [1381, 3037, 85, 35], [1118, 3037, 258, 35], [154, 3037, 959, 35], [13909, 3045, 188, 40], [13715, 3045, 189, 40], [13300, 3045, 410, 40], [11406, 3045, 89, 40], [11138, 3045, 263, 40], [10278, 3045, 855, 40], [9788, 3048, 255, 36], [9566, 3048, 216, 36], [9368, 3048, 193, 36], [8807, 3048, 556, 36], [6527, 3048, 84, 36], [6264, 3048, 257, 36]], [[4681, 3077, 193, 36], [4482, 3077, 194, 36], [3859, 3077, 618, 36], [1381, 3077, 85, 36], [1118, 3077, 258, 36], [154, 3077, 959, 36], [9788, 3089, 255, 36], [9566, 3089, 216, 36], [9368, 3089, 193, 36], [8807, 3089, 556, 36], [6527, 3089, 84, 36], [6264, 3089, 257, 36], [13909, 3090, 188, 41], [13715, 3090, 189, 41], [13300, 3090, 410, 41], [11406, 3090, 89, 41], [11138, 3090, 263, 41], [10278, 3090, 855, 41]], [[4681, 3118, 193, 36], [4482, 3118, 194, 36], [3859, 3118, 618, 36], [1381, 3118, 85, 36], [1118, 3118, 258, 36], [154, 3118, 959, 36], [9788, 3130, 255, 35], [9566, 3130, 216, 35], [9368, 3130, 193, 35], [8807, 3130, 556, 35], [6527, 3130, 84, 35], [6264, 3130, 257, 35], [13909, 3136, 188, 40], [13715, 3136, 189, 40], [13300, 3136, 410, 40], [11406, 3136, 89, 40], [11138, 3136, 263, 40], [10278, 3136, 855, 40], [4681, 3159, 193, 36], [4482, 3159, 194, 36], [3859, 3159, 618, 36], [1381, 3159, 85, 36], [1118, 3159, 258, 36], [154, 3159, 959, 36], [9788, 3171, 255, 35], [9566, 3171, 216, 35], [9368, 3171, 193, 35], [8807, 3171, 556, 35], [6527, 3171, 84, 35], [6264, 3171, 257, 35], [13909, 3181, 188, 40], [13715, 3181, 189, 40], [13300, 3181, 410, 40], [11406, 3181, 89, 40], [11138, 3181, 263, 40], [10278, 3181, 855, 40], [4681, 3200, 193, 36], [4482, 3200, 194, 36], [3859, 3200, 618, 36], [1381, 3200, 85, 36], [1118, 3200, 258, 36], [154, 3200, 959, 36], [9788, 3211, 255, 36], [9566, 3211, 216, 36], [9368, 3211, 193, 36], [8807, 3211, 556, 36], [6527, 3211, 84, 36], [6264, 3211, 257, 36], [13909, 3226, 188, 41], [13715, 3226, 189, 41], [13300, 3226, 410, 41], [11406, 3226, 89, 41], [11138, 3226, 263, 41], [10278, 3226, 855, 41], [4681, 3241, 193, 35], [4482, 3241, 194, 35], [3859, 3241, 618, 35], [1381, 3241, 85, 35], [1118, 3241, 258, 35], [154, 3241, 959, 35], [9788, 3252, 255, 36], [9566, 3252, 216, 36], [9368, 3252, 193, 36], [8807, 3252, 556, 36], [6527, 3252, 84, 36], [6264, 3252, 257, 36], [13909, 3272, 188, 40], [13715, 3272, 189, 40], [13300, 3272, 410, 40], [11406, 3272, 89, 40], [11138, 3272, 263, 40], [10278, 3272, 855, 40], [4681, 3282, 193, 35], [4482, 3282, 194, 35], [3859, 3282, 618, 35], [1381, 3282, 85, 35], [1118, 3282, 258, 35], [154, 3282, 959, 35], [9788, 3293, 255, 36], [9566, 3293, 216, 36], [9368, 3293, 193, 36], [8807, 3293, 556, 36], [6527, 3293, 84, 36], [6264, 3293, 257, 36], [13909, 3317, 188, 40], [13715, 3317, 189, 40], [13300, 3317, 410, 40], [11406, 3317, 89, 40], [11138, 3317, 263, 40], [10278, 3317, 855, 40], [4681, 3322, 193, 36], [4482, 3322, 194, 36], [3859, 3322, 618, 36], [1381, 3322, 85, 36], [1118, 3322, 258, 36], [154, 3322, 959, 36], [9788, 3334, 255, 36], [9566, 3334, 216, 36], [9368, 3334, 193, 36], [8807, 3334, 556, 36], [6527, 3334, 84, 36], [6264, 3334, 257, 36]], [[13909, 3362, 188, 41], [13715, 3362, 189, 41], [13300, 3362, 410, 41], [11406, 3362, 89, 41], [11138, 3362, 263, 41], [10278, 3362, 855, 41], [4681, 3363, 193, 36], [4482, 3363, 194, 36], [3859, 3363, 618, 36], [1381, 3363, 85, 36], [1118, 3363, 258, 36], [154, 3363, 959, 36], [9788, 3375, 255, 35], [9566, 3375, 216, 35], [9368, 3375, 193, 35], [8807, 3375, 556, 35], [6527, 3375, 84, 35], [6264, 3375, 257, 35]], [[4681, 3404, 193, 36], [4482, 3404, 194, 36], [3859, 3404, 618, 36], [1381, 3404, 85, 36], [1118, 3404, 258, 36], [154, 3404, 959, 36], [13909, 3408, 188, 40], [13715, 3408, 189, 40], [13300, 3408, 410, 40], [11406, 3408, 89, 40], [11138, 3408, 263, 40], [10278, 3408, 855, 40], [9788, 3415, 255, 36], [9566, 3415, 216, 36], [9368, 3415, 193, 36], [8807, 3415, 556, 36], [6527, 3415, 84, 36], [6264, 3415, 257, 36]], [[4681, 3445, 193, 36], [4482, 3445, 194, 36], [3859, 3445, 618, 36], [1381, 3445, 85, 36], [1118, 3445, 258, 36], [154, 3445, 959, 36], [13909, 3453, 188, 40], [13715, 3453, 189, 40], [13300, 3453, 410, 40], [11406, 3453, 89, 40], [11138, 3453, 263, 40], [10278, 3453, 855, 40], [9788, 3456, 255, 36], [9566, 3456, 216, 36], [9368, 3456, 193, 36], [8807, 3456, 556, 36], [6527, 3456, 84, 36], [6264, 3456, 257, 36]], [[4681, 3486, 193, 35], [4482, 3486, 194, 35], [3859, 3486, 618, 35], [1381, 3486, 85, 35], [1118, 3486, 258, 35], [154, 3486, 959, 35], [9788, 3497, 255, 36], [9566, 3497, 216, 36], [9368, 3497, 193, 36], [8807, 3497, 556, 36], [6527, 3497, 84, 36], [6264, 3497, 257, 36], [13909, 3499, 188, 40], [13715, 3499, 189, 40], [13300, 3499, 410, 40], [11406, 3499, 89, 40], [11138, 3499, 263, 40], [10278, 3499, 855, 40]], [[4681, 3526, 193, 36], [4482, 3526, 194, 36], [3859, 3526, 618, 36], [1381, 3526, 85, 36], [1118, 3526, 258, 36], [154, 3526, 959, 36], [9788, 3538, 255, 36], [9566, 3538, 216, 36], [9368, 3538, 193, 36], [8807, 3538, 556, 36], [6527, 3538, 84, 36], [6264, 3538, 257, 36], [13909, 3544, 188, 40], [13715, 3544, 189, 40], [13300, 3544, 410, 40], [11406, 3544, 89, 40], [11138, 3544, 263, 40], [10278, 3544, 855, 40], [4681, 3567, 193, 36], [4482, 3567, 194, 36], [3859, 3567, 618, 36], [1381, 3567, 85, 36], [1118, 3567, 258, 36], [154, 3567, 959, 36], [9788, 3579, 255, 36], [9566, 3579, 216, 36], [9368, 3579, 193, 36], [8807, 3579, 556, 36], [6527, 3579, 84, 36], [6264, 3579, 257, 36], [13909, 3589, 188, 41], [13715, 3589, 189, 41], [13300, 3589, 410, 41], [11406, 3589, 89, 41], [11138, 3589, 263, 41], [10278, 3589, 855, 41], [4681, 3608, 193, 36], [4482, 3608, 194, 36], [3859, 3608, 618, 36], [1381, 3608, 85, 36], [1118, 3608, 258, 36], [154, 3608, 959, 36], [9788, 3620, 255, 35], [9566, 3620, 216, 35], [9368, 3620, 193, 35], [8807, 3620, 556, 35], [6527, 3620, 84, 35], [6264, 3620, 257, 35], [13909, 3635, 188, 40], [13715, 3635, 189, 40], [13300, 3635, 410, 40], [11406, 3635, 89, 40], [11138, 3635, 263, 40], [10278, 3635, 855, 40], [4681, 3649, 193, 36], [4482, 3649, 194, 36], [3859, 3649, 618, 36], [1381, 3649, 85, 36], [1118, 3649, 258, 36], [154, 3649, 959, 36], [9788, 3660, 255, 36], [9566, 3660, 216, 36], [9368, 3660, 193, 36], [8807, 3660, 556, 36], [6527, 3660, 84, 36], [6264, 3660, 257, 36], [13909, 3680, 188, 40], [13715, 3680, 189, 40], [13300, 3680, 410, 40], [11406, 3680, 89, 40], [11138, 3680, 263, 40], [10278, 3680, 855, 40], [4681, 3690, 193, 35], [4482, 3690, 194, 35], [3859, 3690, 618, 35], [1381, 3690, 85, 35], [1118, 3690, 258, 35], [154, 3690, 959, 35], [9788, 3701, 255, 36], [9566, 3701, 216, 36], [9368, 3701, 193, 36], [8807, 3701, 556, 36], [6527, 3701, 84, 36], [6264, 3701, 257, 36], [13909, 3725, 188, 41], [13715, 3725, 189, 41], [13300, 3725, 410, 41], [11406, 3725, 89, 41], [11138, 3725, 263, 41], [10278, 3725, 855, 41], [4681, 3731, 193, 35], [4482, 3731, 194, 35], [3859, 3731, 618, 35], [1381, 3731, 85, 35], [1118, 3731, 258, 35], [154, 3731, 959, 35], [9788, 3742, 255, 36], [9566, 3742, 216, 36], [9368, 3742, 193, 36], [8807, 3742, 556, 36], [6527, 3742, 84, 36], [6264, 3742, 257, 36]], [[13909, 3771, 188, 40], [13715, 3771, 189, 40], [13300, 3771, 410, 40], [11406, 3771, 89, 40], [11138, 3771, 263, 40], [10278, 3771, 855, 40], [4681, 3771, 193, 36], [4482, 3771, 194, 36], [3859, 3771, 618, 36], [1381, 3771, 85, 36], [1118, 3771, 258, 36], [154, 3771, 959, 36], [9788, 3783, 255, 36], [9566, 3783, 216, 36], [9368, 3783, 193, 36], [8807, 3783, 556, 36], [6527, 3783, 84, 36], [6264, 3783, 257, 36]], [[4681, 3812, 193, 36], [4482, 3812, 194, 36], [3859, 3812, 618, 36], [1381, 3812, 85, 36], [1118, 3812, 258, 36], [154, 3812, 959, 36], [13909, 3816, 188, 40], [13715, 3816, 189, 40], [13300, 3816, 410, 40], [11406, 3816, 89, 40], [11138, 3816, 263, 40], [10278, 3816, 855, 40], [9788, 3824, 255, 35], [9566, 3824, 216, 35], [9368, 3824, 193, 35], [8807, 3824, 556, 35], [6527, 3824, 84, 35], [6264, 3824, 257, 35]], [[4681, 3853, 193, 36], [4482, 3853, 194, 36], [3859, 3853, 618, 36], [1381, 3853, 85, 36], [1118, 3853, 258, 36], [154, 3853, 959, 36], [13909, 3861, 188, 41], [13715, 3861, 189, 41], [13300, 3861, 410, 41], [11406, 3861, 89, 41], [11138, 3861, 263, 41], [10278, 3861, 855, 41], [9788, 3864, 255, 36], [9566, 3864, 216, 36], [9368, 3864, 193, 36], [8807, 3864, 556, 36], [6527, 3864, 84, 36], [6264, 3864, 257, 36]], [[4681, 3894, 193, 36], [4482, 3894, 194, 36], [3859, 3894, 618, 36], [1381, 3894, 85, 36], [1118, 3894, 258, 36], [154, 3894, 959, 36], [9788, 3905, 255, 36], [9566, 3905, 216, 36], [9368, 3905, 193, 36], [8807, 3905, 556, 36], [6527, 3905, 84, 36], [6264, 3905, 257, 36], [13909, 3907, 188, 40], [13715, 3907, 189, 40], [13300, 3907, 410, 40], [11406, 3907, 89, 40], [11138, 3907, 263, 40], [10278, 3907, 855, 40]], [[4681, 3935, 193, 35], [4482, 3935, 194, 35], [3859, 3935, 618, 35], [1381, 3935, 85, 35], [1118, 3935, 258, 35], [154, 3935, 959, 35], [9788, 3946, 255, 36], [9566, 3946, 216, 36], [9368, 3946, 193, 36], [8807, 3946, 556, 36], [6527, 3946, 84, 36], [6264, 3946, 257, 36], [13909, 3952, 188, 40], [13715, 3952, 189, 40], [13300, 3952, 410, 40], [11406, 3952, 89, 40], [11138, 3952, 263, 40], [10278, 3952, 855, 40], [4681, 3975, 193, 36], [4482, 3975, 194, 36], [3859, 3975, 618, 36], [1381, 3975, 85, 36], [1118, 3975, 258, 36], [154, 3975, 959, 36], [9788, 3987, 255, 36], [9566, 3987, 216, 36], [9368, 3987, 193, 36], [8807, 3987, 556, 36], [6527, 3987, 84, 36], [6264, 3987, 257, 36], [13909, 3997, 188, 41], [13715, 3997, 189, 41], [13300, 3997, 410, 41], [11406, 3997, 89, 41], [11138, 3997, 263, 41], [10278, 3997, 855, 41], [4681, 4016, 193, 36], [4482, 4016, 194, 36], [3859, 4016, 618, 36], [1381, 4016, 85, 36], [1118, 4016, 258, 36], [154, 4016, 959, 36], [9788, 4028, 255, 36], [9566, 4028, 216, 36], [9368, 4028, 193, 36], [8807, 4028, 556, 36], [6527, 4028, 84, 36], [6264, 4028, 257, 36], [13909, 4043, 188, 40], [13715, 4043, 189, 40], [13300, 4043, 410, 40], [11406, 4043, 89, 40], [11138, 4043, 263, 40], [10278, 4043, 855, 40], [4681, 4057, 193, 36], [4482, 4057, 194, 36], [3859, 4057, 618, 36], [1381, 4057, 85, 36], [1118, 4057, 258, 36], [154, 4057, 959, 36], [9788, 4069, 255, 35], [9566, 4069, 216, 35], [9368, 4069, 193, 35], [8807, 4069, 556, 35], [6527, 4069, 84, 35], [6264, 4069, 257, 35], [13909, 4088, 188, 40], [13715, 4088, 189, 40], [13300, 4088, 410, 40], [11406, 4088, 89, 40], [11138, 4088, 263, 40], [10278, 4088, 855, 40], [4681, 4098, 193, 36], [4482, 4098, 194, 36], [3859, 4098, 618, 36], [1381, 4098, 85, 36], [1118, 4098, 258, 36], [154, 4098, 959, 36], [9788, 4109, 255, 36], [9566, 4109, 216, 36], [9368, 4109, 193, 36], [8807, 4109, 556, 36], [6527, 4109, 84, 36], [6264, 4109, 257, 36], [13909, 4133, 188, 41], [13715, 4133, 189, 41], [13300, 4133, 410, 41], [11406, 4133, 89, 41], [11138, 4133, 263, 41], [10278, 4133, 855, 41], [4681, 4139, 193, 35], [4482, 4139, 194, 35], [3859, 4139, 618, 35], [1381, 4139, 85, 35], [1118, 4139, 258, 35], [154, 4139, 959, 35], [9788, 4150, 255, 36], [9566, 4150, 216, 36], [9368, 4150, 193, 36], [8807, 4150, 556, 36], [6527, 4150, 84, 36], [6264, 4150, 257, 36]], [[13909, 4179, 188, 40], [13715, 4179, 189, 40], [13300, 4179, 410, 40], [11406, 4179, 89, 40], [11138, 4179, 263, 40], [10278, 4179, 855, 40], [4681, 4180, 193, 35], [4482, 4180, 194, 35], [3859, 4180, 618, 35], [1381, 4180, 85, 35], [1118, 4180, 258, 35], [154, 4180, 959, 35], [9788, 4191, 255, 36], [9566, 4191, 216, 36], [9368, 4191, 193, 36], [8807, 4191, 556, 36], [6527, 4191, 84, 36], [6264, 4191, 257, 36]], [[4681, 4220, 193, 36], [4482, 4220, 194, 36], [3859, 4220, 618, 36], [1381, 4220, 85, 36], [1118, 4220, 258, 36], [154, 4220, 959, 36], [13909, 4224, 188, 40], [13715, 4224, 189, 40], [13300, 4224, 410, 40], [11406, 4224, 89, 40], [11138, 4224, 263, 40], [10278, 4224, 855, 40], [9788, 4232, 255, 36], [9566, 4232, 216, 36], [9368, 4232, 193, 36], [8807, 4232, 556, 36], [6527, 4232, 84, 36], [6264, 4232, 257, 36]], [[4681, 4261, 193, 36], [4482, 4261, 194, 36], [3859, 4261, 618, 36], [1381, 4261, 85, 36], [1118, 4261, 258, 36], [154, 4261, 959, 36], [13909, 4270, 188, 40], [13715, 4270, 189, 40], [13300, 4270, 410, 40], [11406, 4270, 89, 40], [11138, 4270, 263, 40], [10278, 4270, 855, 40], [9788, 4273, 255, 35], [9566, 4273, 216, 35], [9368, 4273, 193, 35], [8807, 4273, 556, 35], [6527, 4273, 84, 35], [6264, 4273, 257, 35]], [[4681, 4302, 193, 36], [4482, 4302, 194, 36], [3859, 4302, 618, 36], [1381, 4302, 85, 36], [1118, 4302, 258, 36], [154, 4302, 959, 36], [9788, 4313, 255, 36], [9566, 4313, 216, 36], [9368, 4313, 193, 36], [8807, 4313, 556, 36], [6527, 4313, 84, 36], [6264, 4313, 257, 36], [13909, 4315, 188, 40], [13715, 4315, 189, 40], [13300, 4315, 410, 40], [11406, 4315, 89, 40], [11138, 4315, 263, 40], [10278, 4315, 855, 40]], [[4681, 4343, 193, 36], [4482, 4343, 194, 36], [3859, 4343, 618, 36], [1381, 4343, 85, 36], [1118, 4343, 258, 36], [154, 4343, 959, 36], [9788, 4354, 255, 36], [9566, 4354, 216, 36], [9368, 4354, 193, 36], [8807, 4354, 556, 36], [6527, 4354, 84, 36], [6264, 4354, 257, 36], [13909, 4360, 188, 41], [13715, 4360, 189, 41], [13300, 4360, 410, 41], [11406, 4360, 89, 41], [11138, 4360, 263, 41], [10278, 4360, 855, 41], [4681, 4384, 193, 35], [4482, 4384, 194, 35], [3859, 4384, 618, 35], [1381, 4384, 85, 35], [1118, 4384, 258, 35], [154, 4384, 959, 35], [9788, 4395, 255, 36], [9566, 4395, 216, 36], [9368, 4395, 193, 36], [8807, 4395, 556, 36], [6527, 4395, 84, 36], [6264, 4395, 257, 36], [13909, 4406, 188, 40], [13715, 4406, 189, 40], [13300, 4406, 410, 40], [11406, 4406, 89, 40], [11138, 4406, 263, 40], [10278, 4406, 855, 40], [4681, 4424, 193, 36], [4482, 4424, 194, 36], [3859, 4424, 618, 36], [1381, 4424, 85, 36], [1118, 4424, 258, 36], [154, 4424, 959, 36], [9788, 4436, 255, 36], [9566, 4436, 216, 36], [9368, 4436, 193, 36], [8807, 4436, 556, 36], [6527, 4436, 84, 36], [6264, 4436, 257, 36], [13909, 4451, 188, 40], [13715, 4451, 189, 40], [13300, 4451, 410, 40], [11406, 4451, 89, 40], [11138, 4451, 263, 40], [10278, 4451, 855, 40], [4681, 4465, 193, 36], [4482, 4465, 194, 36], [3859, 4465, 618, 36], [1381, 4465, 85, 36], [1118, 4465, 258, 36], [154, 4465, 959, 36], [9788, 4477, 255, 36], [9566, 4477, 216, 36], [9368, 4477, 193, 36], [8807, 4477, 556, 36], [6527, 4477, 84, 36], [6264, 4477, 257, 36], [13909, 4496, 188, 41], [13715, 4496, 189, 41], [13300, 4496, 410, 41], [11406, 4496, 89, 41], [11138, 4496, 263, 41], [10278, 4496, 855, 41], [4681, 4506, 193, 36], [4482, 4506, 194, 36], [3859, 4506, 618, 36], [1381, 4506, 85, 36], [1118, 4506, 258, 36], [154, 4506, 959, 36], [9788, 4518, 255, 35], [9566, 4518, 216, 35], [9368, 4518, 193, 35], [8807, 4518, 556, 35], [6527, 4518, 84, 35], [6264, 4518, 257, 35], [13909, 4542, 188, 40], [13715, 4542, 189, 40], [13300, 4542, 410, 40], [11406, 4542, 89, 40], [11138, 4542, 263, 40], [10278, 4542, 855, 40], [4681, 4547, 193, 36], [4482, 4547, 194, 36], [3859, 4547, 618, 36], [1381, 4547, 85, 36], [1118, 4547, 258, 36], [154, 4547, 959, 36], [9788, 4558, 255, 36], [9566, 4558, 216, 36], [9368, 4558, 193, 36], [8807, 4558, 556, 36], [6527, 4558, 84, 36], [6264, 4558, 257, 36]], [[13909, 4587, 188, 40], [13715, 4587, 189, 40], [13300, 4587, 410, 40], [11406, 4587, 89, 40], [11138, 4587, 263, 40], [10278, 4587, 855, 40], [4681, 4588, 193, 35], [4482, 4588, 194, 35], [3859, 4588, 618, 35], [1381, 4588, 85, 35], [1118, 4588, 258, 35], [154, 4588, 959, 35], [9788, 4599, 255, 36], [9566, 4599, 216, 36], [9368, 4599, 193, 36], [8807, 4599, 556, 36], [6527, 4599, 84, 36], [6264, 4599, 257, 36]], [[4681, 4629, 193, 35], [4482, 4629, 194, 35], [3859, 4629, 618, 35], [1381, 4629, 85, 35], [1118, 4629, 258, 35], [154, 4629, 959, 35], [13909, 4632, 188, 41], [13715, 4632, 189, 41], [13300, 4632, 410, 41], [11406, 4632, 89, 41], [11138, 4632, 263, 41], [10278, 4632, 855, 41], [9788, 4640, 255, 36], [9566, 4640, 216, 36], [9368, 4640, 193, 36], [8807, 4640, 556, 36], [6527, 4640, 84, 36], [6264, 4640, 257, 36]], [[4681, 4669, 193, 35], [4482, 4669, 194, 35], [3859, 4669, 618, 35], [1381, 4669, 85, 35], [1118, 4669, 258, 35], [154, 4669, 959, 35], [13909, 4678, 188, 40], [13715, 4678, 189, 40], [13300, 4678, 410, 40], [11406, 4678, 89, 40], [11138, 4678, 263, 40], [10278, 4678, 855, 40], [9788, 4681, 255, 36], [9566, 4681, 216, 36], [9368, 4681, 193, 36], [8807, 4681, 556, 36], [6527, 4681, 84, 36], [6264, 4681, 257, 36]], [[4681, 4709, 193, 35], [4482, 4709, 194, 35], [3859, 4709, 618, 35], [1381, 4709, 85, 35], [1118, 4709, 258, 35], [154, 4709, 959, 35], [9788, 4722, 255, 35], [9566, 4722, 216, 35], [9368, 4722, 193, 35], [8807, 4722, 556, 35], [6527, 4722, 84, 35], [6264, 4722, 257, 35], [13909, 4723, 188, 40], [13715, 4723, 189, 40], [13300, 4723, 410, 40], [11406, 4723, 89, 40], [11138, 4723, 263, 40], [10278, 4723, 855, 40]], [[4681, 4749, 193, 34], [4482, 4749, 194, 34], [3859, 4749, 618, 34], [1381, 4749, 85, 34], [1118, 4749, 258, 34], [154, 4749, 959, 34], [9788, 4762, 255, 36], [9566, 4762, 216, 36], [9368, 4762, 193, 36], [8807, 4762, 556, 36], [6527, 4762, 84, 36], [6264, 4762, 257, 36], [13909, 4768, 188, 41], [13715, 4768, 189, 41], [13300, 4768, 410, 41], [11406, 4768, 89, 41], [11138, 4768, 263, 41], [10278, 4768, 855, 41], [4681, 4788, 193, 35], [4482, 4788, 194, 35], [3859, 4788, 618, 35], [1381, 4788, 85, 35], [1118, 4788, 258, 35], [154, 4788, 959, 35], [9788, 4803, 255, 36], [9566, 4803, 216, 36], [9368, 4803, 193, 36], [8807, 4803, 556, 36], [6527, 4803, 84, 36], [6264, 4803, 257, 36], [13909, 4814, 188, 40], [13715, 4814, 189, 40], [13300, 4814, 410, 40], [11406, 4814, 89, 40], [11138, 4814, 263, 40], [10278, 4814, 855, 40], [4681, 4828, 193, 35], [4482, 4828, 194, 35], [3859, 4828, 618, 35], [1381, 4828, 85, 35], [1118, 4828, 258, 35], [154, 4828, 959, 35], [9788, 4844, 255, 36], [9566, 4844, 216, 36], [9368, 4844, 193, 36], [8807, 4844, 556, 36], [6527, 4844, 84, 36], [6264, 4844, 257, 36], [13909, 4859, 188, 40], [13715, 4859, 189, 40], [13300, 4859, 410, 40], [11406, 4859, 89, 40], [11138, 4859, 263, 40], [10278, 4859, 855, 40], [4681, 4868, 193, 34], [4482, 4868, 194, 34], [3859, 4868, 618, 34], [1381, 4868, 85, 34], [1118, 4868, 258, 34], [154, 4868, 959, 34], [9788, 4885, 255, 36], [9566, 4885, 216, 36], [9368, 4885, 193, 36], [8807, 4885, 556, 36], [6527, 4885, 84, 36], [6264, 4885, 257, 36], [13909, 4904, 188, 41], [13715, 4904, 189, 41], [13300, 4904, 410, 41], [11406, 4904, 89, 41], [11138, 4904, 263, 41], [10278, 4904, 855, 41], [4681, 4907, 193, 35], [4482, 4907, 194, 35], [3859, 4907, 618, 35], [1381, 4907, 85, 35], [1118, 4907, 258, 35], [154, 4907, 959, 35], [9788, 4926, 255, 36], [9566, 4926, 216, 36], [9368, 4926, 193, 36], [8807, 4926, 556, 36], [6527, 4926, 84, 36], [6264, 4926, 257, 36], [4681, 4947, 193, 35], [4482, 4947, 194, 35], [3859, 4947, 618, 35], [1381, 4947, 85, 35], [1118, 4947, 258, 35], [154, 4947, 959, 35], [13909, 4950, 188, 40], [13715, 4950, 189, 40], [13300, 4950, 410, 40], [11406, 4950, 89, 40], [11138, 4950, 263, 40], [10278, 4950, 855, 40], [9788, 4967, 255, 35], [9566, 4967, 216, 35], [9368, 4967, 193, 35], [8807, 4967, 556, 35], [6527, 4967, 84, 35], [6264, 4967, 257, 35], [4681, 4987, 193, 34], [4482, 4987, 194, 34], [3859, 4987, 618, 34], [1381, 4987, 85, 34], [1118, 4987, 258, 34], [154, 4987, 959, 34], [13909, 4995, 188, 41], [13715, 4995, 189, 41], [13300, 4995, 410, 41], [11406, 4995, 89, 41], [11138, 4995, 263, 41], [10278, 4995, 855, 41], [9788, 5007, 255, 36], [9566, 5007, 216, 36], [9368, 5007, 193, 36], [8807, 5007, 556, 36], [6527, 5007, 84, 36], [6264, 5007, 257, 36], [4681, 5027, 193, 40], [4482, 5027, 194, 40], [3859, 5027, 618, 40], [1381, 5027, 85, 40], [1118, 5027, 258, 40], [154, 5027, 959, 40], [13909, 5041, 188, 40], [13715, 5041, 189, 40], [13300, 5041, 410, 40], [11406, 5041, 89, 40], [11138, 5041, 263, 40], [10278, 5041, 855, 40], [9788, 5048, 255, 36], [9566, 5048, 216, 36], [9368, 5048, 193, 36], [8807, 5048, 556, 36], [6527, 5048, 84, 36], [6264, 5048, 257, 36], [4681, 5072, 193, 35], [4482, 5072, 194, 35], [3859, 5072, 618, 35], [1381, 5072, 85, 35], [1118, 5072, 258, 35], [154, 5072, 959, 35], [13909, 5086, 188, 40], [13715, 5086, 189, 40], [13300, 5086, 411, 40], [11406, 5086, 89, 40], [11138, 5086, 263, 40], [10278, 5086, 855, 40], [9788, 5089, 255, 36], [9566, 5089, 216, 36], [9368, 5089, 193, 36], [8807, 5089, 556, 36], [6527, 5089, 84, 36], [6264, 5089, 257, 36], [4681, 5112, 193, 34], [4482, 5112, 194, 34], [3859, 5112, 618, 34], [1381, 5112, 85, 34], [1118, 5112, 258, 34], [154, 5112, 959, 34], [9788, 5130, 255, 36], [9566, 5130, 216, 36], [9368, 5130, 193, 36], [8807, 5130, 556, 36], [6527, 5130, 84, 36], [6264, 5130, 257, 36], [4681, 5151, 193, 35], [4482, 5151, 194, 35], [3859, 5151, 618, 35], [1381, 5151, 85, 35], [1118, 5151, 258, 35], [154, 5151, 959, 35], [9788, 5171, 255, 35], [9566, 5171, 216, 35], [9368, 5171, 193, 35], [8807, 5171, 556, 35], [6527, 5171, 84, 35], [6264, 5171, 257, 35], [4681, 5191, 193, 35], [4482, 5191, 194, 35], [3859, 5191, 618, 35], [1381, 5191, 85, 35], [1118, 5191, 258, 35], [154, 5191, 959, 35], [9788, 5211, 255, 36], [9566, 5211, 216, 36], [9368, 5211, 193, 36], [8807, 5211, 556, 36], [6527, 5211, 84, 36], [6264, 5211, 257, 36], [4681, 5231, 193, 34], [4482, 5231, 194, 34], [3859, 5231, 618, 34], [1381, 5231, 85, 34], [1118, 5231, 258, 34], [154, 5231, 959, 34], [9788, 5252, 255, 36], [9566, 5252, 216, 36], [9368, 5252, 193, 36], [8807, 5252, 556, 36], [6527, 5252, 84, 36], [6264, 5252, 257, 36], [4681, 5270, 193, 35], [4482, 5270, 194, 35], [3859, 5270, 618, 35], [1381, 5270, 85, 35], [1118, 5270, 258, 35], [154, 5270, 959, 35], [9788, 5293, 255, 36], [9566, 5293, 216, 36], [9368, 5293, 193, 36], [8807, 5293, 556, 36], [6527, 5293, 84, 36], [6264, 5293, 257, 36], [4681, 5310, 193, 35], [4482, 5310, 194, 35], [3859, 5310, 618, 35], [1381, 5310, 85, 35], [1118, 5310, 258, 35], [154, 5310, 959, 35], [9788, 5334, 255, 36], [9566, 5334, 216, 36], [9368, 5334, 193, 36], [8807, 5334, 556, 36], [6527, 5334, 84, 36], [6264, 5334, 257, 36], [4681, 5350, 193, 34], [4482, 5350, 194, 34], [3859, 5350, 618, 34], [1381, 5350, 85, 34], [1118, 5350, 258, 34], [154, 5350, 959, 34]], [[9788, 5375, 255, 36], [9566, 5375, 216, 36], [9368, 5375, 193, 36], [8807, 5375, 556, 36], [6527, 5375, 84, 36], [6264, 5375, 257, 36], [4681, 5389, 193, 35], [4482, 5389, 194, 35], [3859, 5389, 618, 35], [1381, 5389, 85, 35], [1118, 5389, 258, 35], [154, 5389, 959, 35]], [[9788, 5416, 255, 35], [9566, 5416, 216, 35], [9368, 5416, 193, 35], [8807, 5416, 556, 35], [6527, 5416, 84, 35], [6264, 5416, 257, 35], [4681, 5429, 193, 35], [4482, 5429, 194, 35], [3859, 5429, 618, 35], [1381, 5429, 85, 35], [1118, 5429, 258, 35], [154, 5429, 959, 35]], [[9788, 5456, 255, 36], [9566, 5456, 216, 36], [9368, 5456, 193, 36], [8807, 5456, 556, 36], [6527, 5456, 84, 36], [6264, 5456, 257, 36], [4681, 5469, 193, 34], [4482, 5469, 194, 34], [3859, 5469, 618, 34], [1381, 5469, 85, 34], [1118, 5469, 258, 34], [154, 5469, 959, 34]], [[9788, 5497, 255, 36], [9566, 5497, 216, 36], [9368, 5497, 193, 36], [8807, 5497, 556, 36], [6527, 5497, 84, 36], [6264, 5497, 257, 36], [4681, 5508, 193, 35], [4482, 5508, 194, 35], [3859, 5508, 618, 35], [1381, 5508, 85, 35], [1118, 5508, 258, 35], [154, 5508, 959, 35]], [[9788, 5538, 255, 36], [9566, 5538, 216, 36], [9368, 5538, 193, 36], [8807, 5538, 556, 36], [6527, 5538, 84, 36], [6264, 5538, 257, 36], [4681, 5548, 193, 35], [4482, 5548, 194, 35], [3859, 5548, 618, 35], [1381, 5548, 85, 35], [1118, 5548, 258, 35], [154, 5548, 959, 35]], [[9788, 5579, 255, 36], [9566, 5579, 216, 36], [9368, 5579, 193, 36], [8807, 5579, 556, 36], [6527, 5579, 84, 36], [6264, 5579, 257, 36], [4681, 5588, 193, 34], [4482, 5588, 194, 34], [3859, 5588, 618, 34], [1381, 5588, 85, 34], [1118, 5588, 258, 34], [154, 5588, 959, 34]], [[9788, 5620, 255, 35], [9566, 5620, 216, 35], [9368, 5620, 193, 35], [8807, 5620, 556, 35], [6527, 5620, 84, 35], [6264, 5620, 257, 35], [4681, 5627, 193, 35], [4482, 5627, 194, 35], [3859, 5627, 618, 35], [1381, 5627, 85, 35], [1118, 5627, 258, 35], [154, 5627, 959, 35]], [[9788, 5661, 255, 35], [9566, 5661, 216, 35], [9368, 5661, 193, 35], [8807, 5661, 556, 35], [6527, 5661, 84, 35], [6264, 5661, 257, 35], [4681, 5667, 193, 35], [4482, 5667, 194, 35], [3859, 5667, 618, 35], [1381, 5667, 85, 35], [1118, 5667, 258, 35], [154, 5667, 959, 35]], [[9788, 5701, 255, 36], [9566, 5701, 216, 36], [9368, 5701, 193, 36], [8807, 5701, 556, 36], [6527, 5701, 84, 36], [6264, 5701, 257, 36], [4681, 5707, 193, 34], [4482, 5707, 194, 34], [3859, 5707, 618, 34], [1381, 5707, 85, 34], [1118, 5707, 258, 34], [154, 5707, 959, 34]], [[9788, 5742, 255, 36], [9566, 5742, 216, 36], [9368, 5742, 193, 36], [8807, 5742, 556, 36], [6527, 5742, 84, 36], [6264, 5742, 257, 36], [4681, 5747, 193, 34], [4482, 5747, 194, 34], [3859, 5747, 618, 34], [1381, 5747, 85, 34], [1118, 5747, 258, 34], [154, 5747, 959, 34]], [[9788, 5783, 255, 36], [9566, 5783, 216, 36], [9368, 5783, 193, 36], [8807, 5783, 556, 36], [6527, 5783, 84, 36], [6264, 5783, 257, 36], [4681, 5786, 193, 35], [4482, 5786, 194, 35], [3859, 5786, 618, 35], [1381, 5786, 85, 35], [1118, 5786, 258, 35], [154, 5786, 959, 35]], [[9788, 5824, 255, 36], [9566, 5824, 216, 36], [9368, 5824, 193, 36], [8807, 5824, 556, 36], [6527, 5824, 84, 36], [6264, 5824, 257, 36], [4681, 5826, 193, 35], [4482, 5826, 194, 35], [3859, 5826, 618, 35], [1381, 5826, 85, 35], [1118, 5826, 258, 35], [154, 5826, 959, 35]], [[9788, 5865, 255, 35], [9566, 5865, 216, 35], [9368, 5865, 193, 35], [8807, 5865, 556, 35], [6527, 5865, 84, 35], [6264, 5865, 257, 35], [4681, 5866, 193, 34], [4482, 5866, 194, 34], [3859, 5866, 618, 34], [1381, 5866, 85, 34], [1118, 5866, 258, 34], [154, 5866, 959, 34]], [[9788, 5905, 255, 36], [9566, 5905, 216, 36], [9368, 5905, 193, 36], [8807, 5905, 556, 36], [6527, 5905, 84, 36], [6264, 5905, 257, 36], [4681, 5905, 193, 35], [4482, 5905, 194, 35], [3859, 5905, 618, 35], [1381, 5905, 85, 35], [1118, 5905, 258, 35], [154, 5905, 959, 35]], [[4681, 5945, 193, 35], [4482, 5945, 194, 35], [3859, 5945, 618, 35], [1381, 5945, 85, 35], [1118, 5945, 258, 35], [154, 5945, 959, 35], [9788, 5946, 255, 36], [9566, 5946, 216, 36], [9368, 5946, 193, 36], [8807, 5946, 556, 36], [6527, 5946, 84, 36], [6264, 5946, 257, 36]], [[4681, 5985, 193, 34], [4482, 5985, 194, 34], [3859, 5985, 618, 34], [1381, 5985, 85, 34], [1118, 5985, 258, 34], [154, 5985, 959, 34], [9788, 5987, 255, 36], [9566, 5987, 216, 36], [9368, 5987, 193, 36], [8807, 5987, 556, 36], [6527, 5987, 84, 36], [6264, 5987, 257, 36]], [[4681, 6024, 193, 35], [4482, 6024, 194, 35], [3859, 6024, 618, 35], [1381, 6024, 85, 35], [1118, 6024, 258, 35], [154, 6024, 959, 35], [9788, 6028, 255, 36], [9566, 6028, 216, 36], [9368, 6028, 193, 36], [8807, 6028, 556, 36], [6527, 6028, 84, 36], [6264, 6028, 257, 36]], [[4681, 6064, 193, 35], [4482, 6064, 194, 35], [3859, 6064, 618, 35], [1381, 6064, 85, 35], [1118, 6064, 258, 35], [154, 6064, 959, 35], [9788, 6069, 255, 35], [9566, 6069, 216, 35], [9368, 6069, 193, 35], [8807, 6069, 556, 35], [6527, 6069, 84, 35], [6264, 6069, 257, 35]], [[4681, 6104, 193, 34], [4482, 6104, 194, 34], [3859, 6104, 618, 34], [1381, 6104, 85, 34], [1118, 6104, 258, 34], [154, 6104, 959, 34], [9788, 6110, 255, 35], [9566, 6110, 216, 35], [9368, 6110, 193, 35], [8807, 6110, 556, 35], [6527, 6110, 84, 35], [6264, 6110, 257, 35]], [[4681, 6143, 193, 35], [4482, 6143, 194, 35], [3859, 6143, 618, 35], [1381, 6143, 85, 35], [1118, 6143, 258, 35], [154, 6143, 959, 35], [15843, 6146, 625, 7], [9788, 6150, 255, 36], [9566, 6150, 216, 36], [9368, 6150, 193, 36], [8807, 6150, 556, 36], [6527, 6150, 84, 36], [6264, 6150, 257, 36], [15843, 6162, 625, 296], [4681, 6183, 193, 35], [4482, 6183, 194, 35], [3859, 6183, 618, 35], [1381, 6183, 85, 35], [1118, 6183, 258, 35], [154, 6183, 959, 35], [9788, 6191, 255, 36], [9566, 6191, 216, 36], [9368, 6191, 193, 36], [8807, 6191, 556, 36], [6527, 6191, 84, 36], [6264, 6191, 257, 36]], [[4681, 6223, 193, 34], [4482, 6223, 194, 34], [3859, 6223, 618, 34], [1381, 6223, 85, 34], [1118, 6223, 258, 34], [154, 6223, 959, 34], [9788, 6232, 255, 36], [9566, 6232, 216, 36], [9368, 6232, 193, 36], [8807, 6232, 556, 36], [6527, 6232, 84, 36], [6264, 6232, 257, 36]], [[4681, 6262, 193, 35], [4482, 6262, 194, 35], [3859, 6262, 618, 35], [1381, 6262, 85, 35], [1118, 6262, 258, 35], [154, 6262, 959, 35], [9788, 6273, 255, 36], [9566, 6273, 216, 36], [9368, 6273, 193, 36], [8807, 6273, 556, 36], [6527, 6273, 84, 36], [6264, 6273, 257, 36]], [[4681, 6302, 193, 35], [4482, 6302, 194, 35], [3859, 6302, 618, 35], [1381, 6302, 85, 35], [1118, 6302, 258, 35], [154, 6302, 959, 35], [9788, 6314, 255, 35], [9566, 6314, 216, 35], [9368, 6314, 193, 35], [8807, 6314, 556, 35], [6527, 6314, 84, 35], [6264, 6314, 257, 35]], [[4681, 6342, 193, 34], [4482, 6342, 194, 34], [3859, 6342, 618, 34], [1381, 6342, 85, 34], [1118, 6342, 258, 34], [154, 6342, 959, 34], [9788, 6354, 255, 36], [9566, 6354, 216, 36], [9368, 6354, 193, 36], [8807, 6354, 556, 36], [6527, 6354, 84, 36], [6264, 6354, 257, 36]], [[4681, 6381, 193, 41], [4482, 6381, 194, 41], [3859, 6381, 618, 41], [1381, 6381, 85, 41], [1118, 6381, 258, 41], [154, 6381, 959, 41], [9788, 6395, 255, 36], [9566, 6395, 216, 36], [9368, 6395, 193, 36], [8807, 6395, 556, 36], [6527, 6395, 84, 36], [6264, 6395, 257, 36]], [[4681, 6427, 193, 40], [4482, 6427, 194, 40], [3859, 6427, 618, 40], [1381, 6427, 85, 40], [1118, 6427, 258, 40], [154, 6427, 959, 40], [9788, 6436, 255, 36], [9566, 6436, 216, 36], [9368, 6436, 193, 36], [8807, 6436, 556, 36], [6527, 6436, 84, 36], [6264, 6436, 257, 36]], [[4681, 6472, 193, 41], [4482, 6472, 194, 41], [3859, 6472, 618, 41], [1381, 6472, 85, 41], [1118, 6472, 258, 41], [154, 6472, 959, 41], [9788, 6477, 255, 36], [9566, 6477, 216, 36], [9368, 6477, 193, 36], [8807, 6477, 556, 36], [6527, 6477, 84, 36], [6264, 6477, 257, 36]], [[9788, 6518, 255, 35], [9566, 6518, 216, 35], [9368, 6518, 193, 35], [8807, 6518, 556, 35], [6527, 6518, 84, 35], [6264, 6518, 257, 35], [4681, 6518, 193, 40], [4482, 6518, 194, 40], [3859, 6518, 618, 40], [1381, 6518, 85, 40], [1118, 6518, 258, 40], [154, 6518, 959, 40]], [[9788, 6559, 255, 35], [9566, 6559, 216, 35], [9368, 6559, 193, 35], [8807, 6559, 556, 35], [6527, 6559, 84, 35], [6264, 6559, 257, 35], [4681, 6563, 193, 40], [4482, 6563, 194, 40], [3859, 6563, 618, 40], [1381, 6563, 85, 40], [1118, 6563, 258, 40], [154, 6563, 959, 40]], [[9788, 6599, 255, 36], [9566, 6599, 216, 36], [9368, 6599, 193, 36], [8807, 6599, 556, 36], [6527, 6599, 84, 36], [6264, 6599, 257, 36], [4680, 6608, 194, 41], [4482, 6608, 194, 41], [3859, 6608, 618, 41], [1381, 6608, 85, 41], [1118, 6608, 258, 41], [154, 6608, 959, 41]], [[9788, 6640, 255, 36], [9566, 6640, 216, 36], [9368, 6640, 193, 36], [8807, 6640, 556, 36], [6527, 6640, 84, 36], [6264, 6640, 257, 36], [16492, 6642, 76, 101], [15717, 6642, 74, 101]], [[9788, 6681, 255, 36], [9566, 6681, 216, 36], [9368, 6681, 193, 36], [8807, 6681, 556, 36], [6527, 6681, 84, 36], [6264, 6681, 257, 36]], [[9788, 6722, 255, 36], [9566, 6722, 216, 36], [9368, 6722, 193, 36], [8807, 6722, 556, 36], [6527, 6722, 84, 36], [6264, 6722, 257, 36]], [[15717, 6748, 851, 58], [9788, 6763, 255, 35], [9566, 6763, 216, 35], [9368, 6763, 193, 35], [8807, 6763, 556, 35], [6527, 6763, 84, 35], [6264, 6763, 257, 35]], [[9788, 6803, 255, 36], [9566, 6803, 216, 36], [9368, 6803, 193, 36], [8807, 6803, 556, 36], [6527, 6803, 84, 36], [6264, 6803, 257, 36], [15717, 6811, 851, 34]], [[9788, 6844, 255, 36], [9566, 6844, 216, 36], [9368, 6844, 193, 36], [8807, 6844, 556, 36], [6527, 6844, 84, 36], [6264, 6844, 257, 36], [15717, 6850, 851, 207]], [[9788, 6885, 255, 36], [9566, 6885, 216, 36], [9368, 6885, 193, 36], [8807, 6885, 556, 36], [6527, 6885, 84, 36], [6264, 6885, 257, 36]], [[9788, 6926, 255, 36], [9566, 6926, 216, 36], [9368, 6926, 193, 36], [8807, 6926, 556, 36], [6527, 6926, 84, 36], [6264, 6926, 257, 36]], [[9788, 6967, 255, 35], [9566, 6967, 216, 35], [9368, 6967, 193, 35], [8807, 6967, 556, 35], [6527, 6967, 84, 35], [6264, 6967, 257, 35]], [[9788, 7008, 255, 35], [9566, 7008, 216, 35], [9368, 7008, 193, 35], [8807, 7008, 556, 35], [6527, 7008, 84, 35], [6264, 7008, 257, 35]], [[9788, 7048, 255, 36], [9566, 7048, 216, 36], [9368, 7048, 193, 36], [8807, 7048, 556, 36], [6527, 7048, 84, 36], [6264, 7048, 257, 36], [15717, 7062, 851, 468]], [[9788, 7089, 255, 36], [9566, 7089, 216, 36], [9368, 7089, 193, 36], [8807, 7089, 556, 36], [6527, 7089, 84, 36], [6264, 7089, 257, 36]], [[9788, 7130, 255, 36], [9566, 7130, 216, 36], [9368, 7130, 193, 36], [8807, 7130, 556, 36], [6527, 7130, 84, 36], [6264, 7130, 257, 36]], [[9788, 7171, 255, 36], [9566, 7171, 216, 36], [9368, 7171, 193, 36], [8807, 7171, 556, 36], [6527, 7171, 84, 36], [6264, 7171, 257, 36]], [[9788, 7212, 255, 35], [9566, 7212, 216, 35], [9368, 7212, 193, 35], [8807, 7212, 556, 35], [6527, 7212, 84, 35], [6264, 7212, 257, 35]], [[9788, 7252, 255, 36], [9566, 7252, 216, 36], [9368, 7252, 193, 36], [8807, 7252, 556, 36], [6527, 7252, 84, 36], [6264, 7252, 257, 36]], [[9788, 7293, 255, 36], [9566, 7293, 216, 36], [9368, 7293, 193, 36], [8807, 7293, 556, 36], [6527, 7293, 84, 36], [6264, 7293, 257, 36]], [[9788, 7334, 255, 36], [9566, 7334, 216, 36], [9368, 7334, 193, 36], [8807, 7334, 556, 36], [6527, 7334, 84, 36], [6264, 7334, 257, 36]], [[9788, 7375, 255, 36], [9566, 7375, 216, 36], [9368, 7375, 193, 36], [8807, 7375, 556, 36], [6527, 7375, 84, 36], [6264, 7375, 257, 36]], [[9788, 7416, 255, 36], [9566, 7416, 216, 35], [9368, 7416, 193, 35], [8807, 7416, 556, 35], [6527, 7416, 84, 35], [6264, 7416, 257, 35]], [[9787, 7456, 256, 36], [9566, 7457, 217, 35], [9368, 7457, 194, 35], [8807, 7457, 556, 35], [6526, 7457, 86, 35], [6263, 7457, 259, 35]], [[9787, 7497, 256, 33], [9566, 7497, 217, 33], [9368, 7497, 194, 33], [8807, 7497, 556, 33], [6526, 7497, 86, 33], [6263, 7497, 259, 33]]]\n"
     ]
    }
   ],
   "source": [
    "#Creating two lists to define row and column in which cell is located\n",
    "row=[]\n",
    "column=[]\n",
    "j=0\n",
    "#Sorting the boxes to their respective row and column\n",
    "for i in range(len(box)):\n",
    "    if(i==0):\n",
    "        column.append(box[i])\n",
    "        previous=box[i]\n",
    "    else:\n",
    "        if(box[i][1]<=previous[1]+mean/2):\n",
    "            column.append(box[i])\n",
    "            previous=box[i]\n",
    "            if(i==len(box)-1):\n",
    "                row.append(column)\n",
    "        else:\n",
    "            row.append(column)\n",
    "            column=[]\n",
    "            previous = box[i]\n",
    "            column.append(box[i])\n",
    "print(column)\n",
    "print(row)"
   ]
  },
  {
   "cell_type": "markdown",
   "metadata": {},
   "source": [
    "Next we calculate the maximum number of columns (meaning cells) to understand how many columns our final dataframe/table will have.\n"
   ]
  },
  {
   "cell_type": "code",
   "execution_count": 13,
   "metadata": {},
   "outputs": [],
   "source": [
    "#calculating maximum number of cells\n",
    "countcol = 0\n",
    "for i in range(len(row)):\n",
    "    countcol = len(row[i])\n",
    "    if countcol > countcol:\n",
    "        countcol = countcol"
   ]
  },
  {
   "cell_type": "markdown",
   "metadata": {},
   "source": [
    "After having the maximum number of cells we store the midpoint of each column in a list, create an array and sort the values."
   ]
  },
  {
   "cell_type": "code",
   "execution_count": 14,
   "metadata": {},
   "outputs": [],
   "source": [
    "#Retrieving the center of each column\n",
    "center = [int(row[i][j][0]+row[i][j][2]/2) for j in range(len(row[i])) if row[0]]\n",
    "center=np.array(center)\n",
    "center.sort()"
   ]
  },
  {
   "cell_type": "markdown",
   "metadata": {},
   "source": [
    "At this point, we have all boxes and their values, but as you might see in the output of your row list the values are not always sorted in the right order. That’s what we do next regarding the distance to the columns center. The proper sequence we store in the list finalboxes."
   ]
  },
  {
   "cell_type": "code",
   "execution_count": 15,
   "metadata": {},
   "outputs": [],
   "source": [
    "#Regarding the distance to the columns center, the boxes are arranged in respective order\n",
    "finalboxes = []\n",
    "for i in range(len(row)):\n",
    "    lis=[]\n",
    "    for k in range(countcol):\n",
    "        lis.append([])\n",
    "    for j in range(len(row[i])):\n",
    "        diff = abs(center-(row[i][j][0]+row[i][j][2]/4))\n",
    "        minimum = min(diff)\n",
    "        indexing = list(diff).index(minimum)\n",
    "        lis[indexing].append(row[i][j])\n",
    "    finalboxes.append(lis)"
   ]
  },
  {
   "cell_type": "markdown",
   "metadata": {},
   "source": [
    "Let’s extract the values\n",
    "In the next step we make use of our list finalboxes. We take every image-based box, prepare it for Optical Character Recognition by dilating and eroding it and let pytesseract recognize the containing strings. The loop runs over every cell and stores the value in the outer list."
   ]
  },
  {
   "cell_type": "code",
   "execution_count": 18,
   "metadata": {},
   "outputs": [],
   "source": [
    "#Setting the tesseract path to perform image_to_string process\n",
    "pytesseract.pytesseract.tesseract_cmd = r'C:\\Program Files\\Tesseract-OCR\\tesseract.exe'"
   ]
  },
  {
   "cell_type": "code",
   "execution_count": 20,
   "metadata": {},
   "outputs": [],
   "source": [
    "outer = []\n",
    "for i in range(len(finalboxes)):\n",
    "    for j in range(len(finalboxes[i])):\n",
    "        inner = ''\n",
    "        if(len(finalboxes[i][j])==0):\n",
    "            outer.append(' ')\n",
    "        else:\n",
    "            for k in range(len(finalboxes[i][j])):\n",
    "                y,x,w,h = finalboxes[i][j][k][0],finalboxes[i][j][k][1], finalboxes[i][j][k][2],finalboxes[i][j][k][3]\n",
    "                finalimg = bitnot[x:x+h, y:y+w]\n",
    "                kernel = cv2.getStructuringElement(cv2.MORPH_RECT, (2, 1))\n",
    "                border = cv2.copyMakeBorder(finalimg,2,2,2,2,   cv2.BORDER_CONSTANT,value=[255,255])\n",
    "                resizing = cv2.resize(border, None, fx=2, fy=2, interpolation=cv2.INTER_CUBIC)\n",
    "                dilation = cv2.dilate(resizing, kernel,iterations=1)\n",
    "                erosion = cv2.erode(dilation, kernel,iterations=1)\n",
    "                \n",
    "                \n",
    "                out = pytesseract.image_to_string(erosion)\n",
    "                if(len(out)==0):\n",
    "                    out = pytesseract.image_to_string(erosion, config='--psm 3')\n",
    "                inner = inner +\" \"+ out\n",
    "            outer.append(inner)"
   ]
  },
  {
   "cell_type": "markdown",
   "metadata": {},
   "source": [
    "The last step is the conversion of the list to a dataframe and storing it into an excel-file."
   ]
  },
  {
   "cell_type": "code",
   "execution_count": 22,
   "metadata": {},
   "outputs": [
    {
     "name": "stdout",
     "output_type": "stream",
     "text": [
      "                                                    0           1  \\\n",
      "0    FEATURE #\\n\f",
      " LONG\\nSEGMENT\\nvv BB vv\\n\f",
      " LONG\\...      REV\\n\f",
      "   \n",
      "1                                                   \f",
      "           \f",
      "   \n",
      "2    \f",
      " \f",
      " \f",
      " \f",
      " \f",
      " ABR #1, COMMON EFFECTS\\n\f",
      " 4035295F ...           \f",
      "   \n",
      "3    100\\n\f",
      " \f",
      " MC ,SL\\n\f",
      " \f",
      " 4035249F 96\\n\f",
      " \f",
      " 4035296...   \f",
      " \f",
      " \f",
      " \f",
      " \f",
      "   \n",
      "4    100\\n\f",
      " 4600\\n\f",
      " MC ,SL\\n\f",
      " \f",
      " 4035254F 96\\n\f",
      " \f",
      " 4...           \f",
      "   \n",
      "..                                                ...         ...   \n",
      "89                                     4046908F 93\\n\f",
      "           \f",
      "   \n",
      "90                                     4049810F 92\\n\f",
      "           \f",
      "   \n",
      "91                                      4049814F91\\n\f",
      "           \f",
      "   \n",
      "92                                    40498 15F 92\\n\f",
      "           \f",
      "   \n",
      "93                                    404981 7F 92\\n\f",
      "           \f",
      "   \n",
      "\n",
      "                                                    2  \\\n",
      "0                                 WIRE GROUP CODES\\n\f",
      "   \n",
      "1                                                   \f",
      "   \n",
      "2                                             OMIT\\n\f",
      "   \n",
      "3    NF, YM, PY\\n\f",
      " UA, YN\\n\f",
      " UA, YN\\n\f",
      " UA, YN\\n\f",
      " U...   \n",
      "4                                           UA, YN\\n\f",
      "   \n",
      "..                                                ...   \n",
      "89                               PB, SF, YY, PC,YX\\n\f",
      "   \n",
      "90                           PB,PC,PE,SF,YX YY, YZ\\n\f",
      "   \n",
      "91                                      YY, ZD, ZB\\n\f",
      "   \n",
      "92                              YXs YYs ZA, ZB, ZD\\n\f",
      "   \n",
      "93                          YX, YY,;YZ,ZA,ZB,ZC,ZD\\n\f",
      "   \n",
      "\n",
      "                              3                                    4  \\\n",
      "0                             \f",
      "                                    \f",
      "   \n",
      "1                             \f",
      "                                    \f",
      "   \n",
      "2                             \f",
      "                                    \f",
      "   \n",
      "3    \f",
      " \f",
      " 500\\n\f",
      " 1500\\n\f",
      " 2500\\n\f",
      "   100\\n\f",
      " 100\\n\f",
      " 100\\n\f",
      " 100\\n\f",
      " 100\\n\f",
      "   \n",
      "4                       3000\\n\f",
      "                               100\\n\f",
      "   \n",
      "..                          ...                                  ...   \n",
      "89                            \f",
      "                                    \f",
      "   \n",
      "90                            \f",
      "                                    \f",
      "   \n",
      "91                            \f",
      "                                    \f",
      "   \n",
      "92                            \f",
      "                                    \f",
      "   \n",
      "93                            \f",
      "                                    \f",
      "   \n",
      "\n",
      "                                                    5  \n",
      "0                                       \f",
      " \f",
      " \f",
      " \f",
      " \f",
      " \f",
      " \f",
      "  \n",
      "1    \f",
      " \f",
      " \f",
      " LONG\\nSEGMENT\\nvv BB vv\\n\f",
      " LONG\\nSEGMEN...  \n",
      "2                                               \f",
      " \f",
      " \f",
      "  \n",
      "3    \f",
      " \f",
      " \f",
      " \f",
      " \f",
      " \f",
      " \f",
      " \f",
      " ABR #20, LOAD INDICATOR EFFEC...  \n",
      "4       \f",
      " \f",
      " 100\\n\f",
      " 2500\\n\f",
      " PD\\n\f",
      " \f",
      " 4066257F 91\\n\f",
      " \f",
      " \f",
      "  \n",
      "..                                                ...  \n",
      "89                                                  \f",
      "  \n",
      "90                                                  \f",
      "  \n",
      "91                                                  \f",
      "  \n",
      "92                                                  \f",
      "  \n",
      "93                                                  \f",
      "  \n",
      "\n",
      "[94 rows x 6 columns]\n"
     ]
    }
   ],
   "source": [
    "#Creating a dataframe of the generated OCR list\n",
    "arr = np.array(outer)\n",
    "dataframe = pd.DataFrame(arr.reshape(len(row),countcol))\n",
    "print(dataframe)\n",
    "data = dataframe.style.set_properties(align=\"left\")\n",
    "#Converting it in a excel-file\n",
    "data.to_excel(\"output1.xlsx\")"
   ]
  },
  {
   "cell_type": "markdown",
   "metadata": {},
   "source": [
    "# Thank you!"
   ]
  },
  {
   "cell_type": "code",
   "execution_count": null,
   "metadata": {},
   "outputs": [],
   "source": []
  }
 ],
 "metadata": {
  "kernelspec": {
   "display_name": "Python 3",
   "language": "python",
   "name": "python3"
  },
  "language_info": {
   "codemirror_mode": {
    "name": "ipython",
    "version": 3
   },
   "file_extension": ".py",
   "mimetype": "text/x-python",
   "name": "python",
   "nbconvert_exporter": "python",
   "pygments_lexer": "ipython3",
   "version": "3.7.6"
  }
 },
 "nbformat": 4,
 "nbformat_minor": 4
}
