{
 "cells": [
  {
   "cell_type": "markdown",
   "metadata": {},
   "source": [
    "Name: Isaiyamudhu M\n\n\n",
    "To scrap Table from image based pdf or scanned pdf using OpenCV and pytesseract.\n\n\n",
    "The algorithm steps:\n",
    "    1.I have used Open CV library for table detection and cell recognition. \n",
    "    2.Did thorough allocation of the cells to the proper row and column.\n",
    "    3.Then the extraction of each allocated cell through Optical Character Recognition (OCR) with pytesseract library.    "
   ]
  },
  {
   "cell_type": "code",
   "execution_count": 23,
   "metadata": {},
   "outputs": [],
   "source": [
    "import fitz # PyMuPDF\n",
    "import io\n",
    "# file path to extract images from\n",
    "file = \"TestDocument.pdf\"\n",
    "# open the file\n",
    "pdf_file = fitz.open(file)"
   ]
  },
  {
   "cell_type": "code",
   "execution_count": 25,
   "metadata": {},
   "outputs": [
    {
     "name": "stdout",
     "output_type": "stream",
     "text": [
      "[+] Found a total of 1 images in page 0\n"
     ]
    }
   ],
   "source": [
    "# iterate over PDF pages\n",
    "img_namlist = []\n",
    "for page_index in range(len(pdf_file)):\n",
    "    # get the page itself\n",
    "    page = pdf_file[page_index]\n",
    "    image_list = page.getImageList()\n",
    "    # printing number of images found in this page\n",
    "    if image_list:\n",
    "        print(f\"[+] Found a total of {len(image_list)} images in page {page_index}\")\n",
    "    else:\n",
    "        print(\"[!] No images found on page\", page_index)\n",
    "    for image_index, img in enumerate(page.getImageList(), start=1):\n",
    "        # get the XREF of the image\n",
    "        xref = img[0]\n",
    "        # extract the image bytes\n",
    "        base_image = pdf_file.extractImage(xref)\n",
    "        image_bytes = base_image[\"image\"]\n",
    "        # get the image extension\n",
    "        image_ext = base_image[\"ext\"]\n",
    "        # load it to PIL\n",
    "        image = Image.open(io.BytesIO(image_bytes))\n",
    "        # append image name in img_namlist\n",
    "        img_nam = \"image\"+str(page_index+1)+\"_\"+str(image_index)+\".\"+str(image_ext)\n",
    "        img_namlist.append(img_nam)\n",
    "        # save it to local disk\n",
    "        image.save(open(f\"image{page_index+1}_{image_index}.{image_ext}\", \"wb\"))\n"
   ]
  },
  {
   "cell_type": "code",
   "execution_count": 27,
   "metadata": {},
   "outputs": [
    {
     "data": {
      "text/plain": [
       "'image1_1.png'"
      ]
     },
     "execution_count": 27,
     "metadata": {},
     "output_type": "execute_result"
    }
   ],
   "source": [
    "img_nam = img_namlist[0]\n",
    "img_nam"
   ]
  },
  {
   "cell_type": "code",
   "execution_count": 2,
   "metadata": {},
   "outputs": [],
   "source": [
    "import cv2\n",
    "import numpy as np\n",
    "import pandas as pd\n",
    "import matplotlib.pyplot as plt\n",
    "import csv\n",
    "try:\n",
    "    from PIL import Image\n",
    "except ImportError:\n",
    "    import Image\n",
    "import pytesseract"
   ]
  },
  {
   "cell_type": "markdown",
   "metadata": {},
   "source": [
    "Using thresholding to convert the input image to a binary image and inverting it to get a black background and white lines and fonts\n"
   ]
  },
  {
   "cell_type": "code",
   "execution_count": 30,
   "metadata": {},
   "outputs": [
    {
     "data": {
      "image/png": "[encoded data removed]",
      "text/plain": [
       "<Figure size 432x288 with 1 Axes>"
      ]
     },
     "metadata": {
      "needs_background": "light"
     },
     "output_type": "display_data"
    }
   ],
   "source": [
    "#reading the file\n",
    "file=r'image1_1.png'\n",
    "img = cv2.imread(file,0)\n",
    "img.shape\n",
    "#thresholding the image to a binary image\n",
    "thresh,img_bin = cv2.threshold(img,128,255,cv2.THRESH_BINARY |cv2.THRESH_OTSU)\n",
    "#inverting the image \n",
    "img_bin = 255-img_bin\n",
    "cv2.imwrite('cv_inverted1.png',img_bin)\n",
    "#Plotting the image to see the output\n",
    "plotting = plt.imshow(img_bin,cmap='gray')\n",
    "plt.show()"
   ]
  },
  {
   "cell_type": "markdown",
   "metadata": {},
   "source": [
    "To define a kernel to detect rectangular boxes, and followingly the tabular structure. First, I define the length of the kernel and following the vertical and horizontal kernels to detect later on all vertical lines and all horizontal lines."
   ]
  },
  {
   "cell_type": "code",
   "execution_count": 4,
   "metadata": {},
   "outputs": [],
   "source": [
    "# Length(width) of kernel as 100th of total width\n",
    "kernel_len = np.array(img).shape[1]//100\n",
    "# Defining a vertical kernel to detect all vertical lines of image \n",
    "ver_kernel = cv2.getStructuringElement(cv2.MORPH_RECT, (1, kernel_len))\n",
    "# Defining a horizontal kernel to detect all horizontal lines of image\n",
    "hor_kernel = cv2.getStructuringElement(cv2.MORPH_RECT, (kernel_len, 1))\n",
    "# A kernel of 2x2\n",
    "kernel = cv2.getStructuringElement(cv2.MORPH_RECT, (2, 2))"
   ]
  },
  {
   "cell_type": "markdown",
   "metadata": {},
   "source": [
    "The next step is the detection of the vertical lines"
   ]
  },
  {
   "cell_type": "code",
   "execution_count": 5,
   "metadata": {},
   "outputs": [
    {
     "data": {
      "image/png": "[encoded data removed]",
      "text/plain": [
       "<Figure size 432x288 with 1 Axes>"
      ]
     },
     "metadata": {
      "needs_background": "light"
     },
     "output_type": "display_data"
    }
   ],
   "source": [
    "#Use vertical kernel to detect and save the vertical lines in a jpg\n",
    "image_1 = cv2.erode(img_bin, ver_kernel, iterations=3)\n",
    "vertical_lines = cv2.dilate(image_1, ver_kernel, iterations=3)\n",
    "cv2.imwrite(\"vertical1.jpg\",vertical_lines)\n",
    "#Plot the generated image\n",
    "plotting = plt.imshow(image_1,cmap='gray')\n",
    "plt.show()"
   ]
  },
  {
   "cell_type": "markdown",
   "metadata": {},
   "source": [
    "And now the same for all horizontal lines"
   ]
  },
  {
   "cell_type": "code",
   "execution_count": 6,
   "metadata": {},
   "outputs": [
    {
     "data": {
      "image/png": "[encoded data removed]",
      "text/plain": [
       "<Figure size 432x288 with 1 Axes>"
      ]
     },
     "metadata": {
      "needs_background": "light"
     },
     "output_type": "display_data"
    }
   ],
   "source": [
    "#Use horizontal kernel to detect and save the horizontal lines in a jpg\n",
    "image_2 = cv2.erode(img_bin, hor_kernel, iterations=3)\n",
    "horizontal_lines = cv2.dilate(image_2, hor_kernel, iterations=3)\n",
    "cv2.imwrite(\"horizontal1.jpg\",horizontal_lines)\n",
    "#Plot the generated image\n",
    "plotting = plt.imshow(image_2,cmap='gray')\n",
    "plt.show()"
   ]
  },
  {
   "cell_type": "markdown",
   "metadata": {},
   "source": [
    "Combine the horizontal and vertical lines to a third image, by weighting both with 0.5.To get a clear tabular structure to detect each cell."
   ]
  },
  {
   "cell_type": "code",
   "execution_count": 7,
   "metadata": {},
   "outputs": [
    {
     "data": {
      "image/png": "[encoded data removed]",
      "text/plain": [
       "<Figure size 432x288 with 1 Axes>"
      ]
     },
     "metadata": {
      "needs_background": "light"
     },
     "output_type": "display_data"
    }
   ],
   "source": [
    "# Combine horizontal and vertical lines., with both having same weight.\n",
    "img_vh = cv2.addWeighted(vertical_lines, 0.5, horizontal_lines, 0.5, 0.0)\n",
    "#Eroding and thesholding the image\n",
    "img_vh = cv2.erode(~img_vh, kernel, iterations=2)\n",
    "thresh, img_vh = cv2.threshold(img_vh,128,255, cv2.THRESH_BINARY | cv2.THRESH_OTSU)\n",
    "cv2.imwrite(\"img_vh1.jpg\", img_vh)\n",
    "bitxor = cv2.bitwise_xor(img,img_vh)\n",
    "bitnot = cv2.bitwise_not(bitxor)\n",
    "#Plotting the generated image\n",
    "plotting = plt.imshow(bitnot,cmap='gray')\n",
    "plt.show()"
   ]
  },
  {
   "cell_type": "markdown",
   "metadata": {},
   "source": [
    "To find Contours function to detect the contours. To retrieve the exact coordinates of each box."
   ]
  },
  {
   "cell_type": "code",
   "execution_count": 8,
   "metadata": {},
   "outputs": [],
   "source": [
    "# Detect contours for following box detection\n",
    "contours, hierarchy = cv2.findContours(img_vh, cv2.RETR_TREE, cv2.CHAIN_APPROX_SIMPLE)"
   ]
  },
  {
   "cell_type": "code",
   "execution_count": 9,
   "metadata": {},
   "outputs": [],
   "source": [
    "def sort_contours(cnts, method=\"left-to-right\"):\n",
    "    # initialize the reverse flag and sort index\n",
    "    reverse = False\n",
    "    i = 0\n",
    "    # handle if we need to sort in reverse\n",
    "    if method == \"right-to-left\" or method == \"bottom-to-top\":\n",
    "        reverse = True\n",
    "    # handle if we are sorting against the y-coordinate rather than\n",
    "    # the x-coordinate of the bounding box\n",
    "    if method == \"top-to-bottom\" or method == \"bottom-to-top\":\n",
    "        i = 1\n",
    "    # construct the list of bounding boxes and sort them from top to\n",
    "    # bottom\n",
    "    boundingBoxes = [cv2.boundingRect(c) for c in cnts]\n",
    "    (cnts, boundingBoxes) = zip(*sorted(zip(cnts, boundingBoxes),\n",
    "    key=lambda b:b[1][i], reverse=reverse))\n",
    "    # return the list of sorted contours and bounding boxes\n",
    "    return (cnts, boundingBoxes)\n",
    "\n",
    "# Sort all the contours by top to bottom.\n",
    "contours, boundingBoxes = sort_contours(contours, method=\"top-to-bottom\")"
   ]
  },
  {
   "cell_type": "markdown",
   "metadata": {},
   "source": [
    "To retrieve the cells position,\n",
    "To retrieve the height for each cell and store it in the list heights. \n",
    "Then I take the mean from the heights."
   ]
  },
  {
   "cell_type": "code",
   "execution_count": 10,
   "metadata": {},
   "outputs": [],
   "source": [
    "#Creating a list of heights for all detected boxes\n",
    "heights = [boundingBoxes[i][3] for i in range(len(boundingBoxes))]\n",
    "#Get mean of heights\n",
    "mean = np.mean(heights)"
   ]
  },
  {
   "cell_type": "markdown",
   "metadata": {},
   "source": [
    "width and height of each contour and store it in the box list. Then I draw rectangles around all our boxes and plot the image. "
   ]
  },
  {
   "cell_type": "code",
   "execution_count": 11,
   "metadata": {},
   "outputs": [
    {
     "data": {
      "image/png": "[encoded data removed]",
      "text/plain": [
       "<Figure size 432x288 with 1 Axes>"
      ]
     },
     "metadata": {
      "needs_background": "light"
     },
     "output_type": "display_data"
    }
   ],
   "source": [
    "#Create list box to store all boxes in  \n",
    "box = []\n",
    "# Get position (x,y), width and height for every contour and show the contour on image\n",
    "for c in contours:\n",
    "    x, y, w, h = cv2.boundingRect(c)\n",
    "    if (w<1000 and h<500):\n",
    "        image = cv2.rectangle(img,(x,y),(x+w,y+h),(0,255,0),2)\n",
    "        box.append([x,y,w,h])\n",
    "plotting = plt.imshow(image,cmap='gray')\n",
    "plt.show()"
   ]
  },
  {
   "cell_type": "markdown",
   "metadata": {},
   "source": [
    "In every cell, its location, height and width we need to get the right location within the table. \n",
    "\n",
    "Columns are logically arranged from left to right."
   ]
  },
  {
   "cell_type": "code",
   "execution_count": 31,
   "metadata": {},
   "outputs": [],
   "source": [
    "#Creating two lists to define row and column in which cell is located\n",
    "row=[]\n",
    "column=[]\n",
    "j=0\n",
    "#Sorting the boxes to their respective row and column\n",
    "for i in range(len(box)):\n",
    "    if(i==0):\n",
    "        column.append(box[i])\n",
    "        previous=box[i]\n",
    "    else:\n",
    "        if(box[i][1]<=previous[1]+mean/2):\n",
    "            column.append(box[i])\n",
    "            previous=box[i]\n",
    "            if(i==len(box)-1):\n",
    "                row.append(column)\n",
    "        else:\n",
    "            row.append(column)\n",
    "            column=[]\n",
    "            previous = box[i]\n",
    "            column.append(box[i])\n",
    "#print(column)\n",
    "#print(row)"
   ]
  },
  {
   "cell_type": "markdown",
   "metadata": {},
   "source": [
    "calculating maximum number of cells"
   ]
  },
  {
   "cell_type": "code",
   "execution_count": 13,
   "metadata": {},
   "outputs": [],
   "source": [
    "#calculating maximum number of cells\n",
    "countcol = 0\n",
    "for i in range(len(row)):\n",
    "    countcol = len(row[i])\n",
    "    if countcol > countcol:\n",
    "        countcol = countcol"
   ]
  },
  {
   "cell_type": "markdown",
   "metadata": {},
   "source": [
    "After having the maximum number of cells we store the midpoint of each column in a list, create an array and sort the values."
   ]
  },
  {
   "cell_type": "code",
   "execution_count": 14,
   "metadata": {},
   "outputs": [],
   "source": [
    "#Retrieving the center of each column\n",
    "center = [int(row[i][j][0]+row[i][j][2]/2) for j in range(len(row[i])) if row[0]]\n",
    "center=np.array(center)\n",
    "center.sort()"
   ]
  },
  {
   "cell_type": "markdown",
   "metadata": {},
   "source": [
    "The proper sequence we store in the list finalboxes to cells are sorted in the right order."
   ]
  },
  {
   "cell_type": "code",
   "execution_count": 15,
   "metadata": {},
   "outputs": [],
   "source": [
    "#Regarding the distance to the columns center, the boxes are arranged in respective order\n",
    "finalboxes = []\n",
    "for i in range(len(row)):\n",
    "    lis=[]\n",
    "    for k in range(countcol):\n",
    "        lis.append([])\n",
    "    for j in range(len(row[i])):\n",
    "        diff = abs(center-(row[i][j][0]+row[i][j][2]/4))\n",
    "        minimum = min(diff)\n",
    "        indexing = list(diff).index(minimum)\n",
    "        lis[indexing].append(row[i][j])\n",
    "    finalboxes.append(lis)"
   ]
  },
  {
   "cell_type": "markdown",
   "metadata": {},
   "source": [
    "Make use of list finalboxes. Taking every image-based box, prepare it for Optical Character Recognition by dilating and eroding it and let pytesseract recognize the containing strings. The loop runs over every cell and stores the value in the outer list.\n",
    "\n",
    "\n",
    "#Setting the tesseract path to perform image_to_string process"
   ]
  },
  {
   "cell_type": "code",
   "execution_count": 18,
   "metadata": {},
   "outputs": [],
   "source": [
    "#Setting the tesseract path to perform image_to_string process\n",
    "pytesseract.pytesseract.tesseract_cmd = r'C:\\Program Files\\Tesseract-OCR\\tesseract.exe'"
   ]
  },
  {
   "cell_type": "code",
   "execution_count": 20,
   "metadata": {},
   "outputs": [],
   "source": [
    "outer = []\n",
    "for i in range(len(finalboxes)):\n",
    "    for j in range(len(finalboxes[i])):\n",
    "        inner = ''\n",
    "        if(len(finalboxes[i][j])==0):\n",
    "            outer.append(' ')\n",
    "        else:\n",
    "            for k in range(len(finalboxes[i][j])):\n",
    "                y,x,w,h = finalboxes[i][j][k][0],finalboxes[i][j][k][1], finalboxes[i][j][k][2],finalboxes[i][j][k][3]\n",
    "                finalimg = bitnot[x:x+h, y:y+w]\n",
    "                kernel = cv2.getStructuringElement(cv2.MORPH_RECT, (2, 1))\n",
    "                border = cv2.copyMakeBorder(finalimg,2,2,2,2,   cv2.BORDER_CONSTANT,value=[255,255])\n",
    "                resizing = cv2.resize(border, None, fx=2, fy=2, interpolation=cv2.INTER_CUBIC)\n",
    "                dilation = cv2.dilate(resizing, kernel,iterations=1)\n",
    "                erosion = cv2.erode(dilation, kernel,iterations=1)\n",
    "                \n",
    "                \n",
    "                out = pytesseract.image_to_string(erosion)\n",
    "                if(len(out)==0):\n",
    "                    out = pytesseract.image_to_string(erosion, config='--psm 3')\n",
    "                inner = inner +\" \"+ out\n",
    "            outer.append(inner)"
   ]
  },
  {
   "cell_type": "markdown",
   "metadata": {},
   "source": [
    "The conversion of the list to a dataframe and storing it into an excel-file."
   ]
  },
  {
   "cell_type": "code",
   "execution_count": 22,
   "metadata": {},
   "outputs": [
    {
     "name": "stdout",
     "output_type": "stream",
     "text": [
      "                                                    0           1  \\\n",
      "0    FEATURE #\\n\f",
      " LONG\\nSEGMENT\\nvv BB vv\\n\f",
      " LONG\\...      REV\\n\f",
      "   \n",
      "1                                                   \f",
      "           \f",
      "   \n",
      "2    \f",
      " \f",
      " \f",
      " \f",
      " \f",
      " ABR #1, COMMON EFFECTS\\n\f",
      " 4035295F ...           \f",
      "   \n",
      "3    100\\n\f",
      " \f",
      " MC ,SL\\n\f",
      " \f",
      " 4035249F 96\\n\f",
      " \f",
      " 4035296...   \f",
      " \f",
      " \f",
      " \f",
      " \f",
      "   \n",
      "4    100\\n\f",
      " 4600\\n\f",
      " MC ,SL\\n\f",
      " \f",
      " 4035254F 96\\n\f",
      " \f",
      " 4...           \f",
      "   \n",
      "..                                                ...         ...   \n",
      "89                                     4046908F 93\\n\f",
      "           \f",
      "   \n",
      "90                                     4049810F 92\\n\f",
      "           \f",
      "   \n",
      "91                                      4049814F91\\n\f",
      "           \f",
      "   \n",
      "92                                    40498 15F 92\\n\f",
      "           \f",
      "   \n",
      "93                                    404981 7F 92\\n\f",
      "           \f",
      "   \n",
      "\n",
      "                                                    2  \\\n",
      "0                                 WIRE GROUP CODES\\n\f",
      "   \n",
      "1                                                   \f",
      "   \n",
      "2                                             OMIT\\n\f",
      "   \n",
      "3    NF, YM, PY\\n\f",
      " UA, YN\\n\f",
      " UA, YN\\n\f",
      " UA, YN\\n\f",
      " U...   \n",
      "4                                           UA, YN\\n\f",
      "   \n",
      "..                                                ...   \n",
      "89                               PB, SF, YY, PC,YX\\n\f",
      "   \n",
      "90                           PB,PC,PE,SF,YX YY, YZ\\n\f",
      "   \n",
      "91                                      YY, ZD, ZB\\n\f",
      "   \n",
      "92                              YXs YYs ZA, ZB, ZD\\n\f",
      "   \n",
      "93                          YX, YY,;YZ,ZA,ZB,ZC,ZD\\n\f",
      "   \n",
      "\n",
      "                              3                                    4  \\\n",
      "0                             \f",
      "                                    \f",
      "   \n",
      "1                             \f",
      "                                    \f",
      "   \n",
      "2                             \f",
      "                                    \f",
      "   \n",
      "3    \f",
      " \f",
      " 500\\n\f",
      " 1500\\n\f",
      " 2500\\n\f",
      "   100\\n\f",
      " 100\\n\f",
      " 100\\n\f",
      " 100\\n\f",
      " 100\\n\f",
      "   \n",
      "4                       3000\\n\f",
      "                               100\\n\f",
      "   \n",
      "..                          ...                                  ...   \n",
      "89                            \f",
      "                                    \f",
      "   \n",
      "90                            \f",
      "                                    \f",
      "   \n",
      "91                            \f",
      "                                    \f",
      "   \n",
      "92                            \f",
      "                                    \f",
      "   \n",
      "93                            \f",
      "                                    \f",
      "   \n",
      "\n",
      "                                                    5  \n",
      "0                                       \f",
      " \f",
      " \f",
      " \f",
      " \f",
      " \f",
      " \f",
      "  \n",
      "1    \f",
      " \f",
      " \f",
      " LONG\\nSEGMENT\\nvv BB vv\\n\f",
      " LONG\\nSEGMEN...  \n",
      "2                                               \f",
      " \f",
      " \f",
      "  \n",
      "3    \f",
      " \f",
      " \f",
      " \f",
      " \f",
      " \f",
      " \f",
      " \f",
      " ABR #20, LOAD INDICATOR EFFEC...  \n",
      "4       \f",
      " \f",
      " 100\\n\f",
      " 2500\\n\f",
      " PD\\n\f",
      " \f",
      " 4066257F 91\\n\f",
      " \f",
      " \f",
      "  \n",
      "..                                                ...  \n",
      "89                                                  \f",
      "  \n",
      "90                                                  \f",
      "  \n",
      "91                                                  \f",
      "  \n",
      "92                                                  \f",
      "  \n",
      "93                                                  \f",
      "  \n",
      "\n",
      "[94 rows x 6 columns]\n"
     ]
    }
   ],
   "source": [
    "#Creating a dataframe of the generated OCR list\n",
    "arr = np.array(outer)\n",
    "dataframe = pd.DataFrame(arr.reshape(len(row),countcol))\n",
    "print(dataframe)\n",
    "data = dataframe.style.set_properties(align=\"left\")\n",
    "#Converting it in a excel-file\n",
    "data.to_excel(\"output1.xlsx\")"
   ]
  },
  {
   "cell_type": "markdown",
   "metadata": {},
   "source": [
    "# Thank you!"
   ]
  },
  {
   "cell_type": "code",
   "execution_count": null,
   "metadata": {},
   "outputs": [],
   "source": []
  }
 ],
 "metadata": {
  "kernelspec": {
   "display_name": "Python 3",
   "language": "python",
   "name": "python3"
  },
  "language_info": {
   "codemirror_mode": {
    "name": "ipython",
    "version": 3
   },
   "file_extension": ".py",
   "mimetype": "text/x-python",
   "name": "python",
   "nbconvert_exporter": "python",
   "pygments_lexer": "ipython3",
   "version": "3.7.6"
  }
 },
 "nbformat": 4,
 "nbformat_minor": 4
}
